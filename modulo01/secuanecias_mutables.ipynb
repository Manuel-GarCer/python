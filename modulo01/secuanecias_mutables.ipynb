{
 "cells": [
  {
   "attachments": {},
   "cell_type": "markdown",
   "metadata": {},
   "source": [
    "# Secuencias mutables\n",
    "- Los tipos de datos mutables son todos aquellos a los que es posible cambiar, modificar o actualizar su contenido. Los objetos mutables más comunes son las listas, diccionarios y conjuntos que sirven para guardar colecciones de datos."
   ]
  },
  {
   "attachments": {},
   "cell_type": "markdown",
   "metadata": {},
   "source": [
    "## Tipos de datos mutables"
   ]
  },
  {
   "attachments": {},
   "cell_type": "markdown",
   "metadata": {},
   "source": [
    "### a. Listas(list):\n",
    "- Una lista es una colección de datos."
   ]
  },
  {
   "cell_type": "code",
   "execution_count": 2,
   "metadata": {},
   "outputs": [
    {
     "name": "stdout",
     "output_type": "stream",
     "text": [
      "['manzana', 'platano', 'fresa', 15, 10.55, True, False, ('Lunes', 'Martes')]\n",
      "['manzana', 'platano', 'fresa', 'sandia', 10.55, True, False, ('Lunes', 'Martes')]\n",
      "['manzana', 'platano', 'fresa', 'pera', 10.55, True, False, ('Lunes', 'Martes')]\n"
     ]
    }
   ],
   "source": [
    "#Cuando usar listas\n",
    "#Por otro lado, las listas pueden ser fácilmente modificadas, ya que son mutables.\n",
    "\n",
    "#Se puede añadir elementos, eliminarlos, cambiarlos de posición o intercambiar unos por otros.\n",
    "\n",
    "#Las listas son útiles si lo que quieres es que tus datos sean flexibles, que puedan ser modificados cuando sea necesario.\n",
    "\n",
    "#Las listas soportan una variedad de métodos incorporados de Python que llevan a cabo ciertas operaciones sobre ellas, operaciones no soportadas por la tuplas.\n",
    "\n",
    "#Todo ello implica que la longitud, el tamaño de una lista pueda variar durante el ciclo de vida del programa.\n",
    "\n",
    "\n",
    "lista_frutas = ['manzana', 'platano', 'fresa', 15, 10.55, True, False,('Lunes', 'Martes')]\n",
    "print(lista_frutas)\n",
    "type(lista_frutas)\n",
    "\n",
    "lista_frutas[3] = 'sandia'\n",
    "print(lista_frutas)\n",
    "lista_frutas[4] = 'pera'\n",
    "print(lista_frutas)"
   ]
  },
  {
   "attachments": {},
   "cell_type": "markdown",
   "metadata": {},
   "source": [
    "##### Metodos:"
   ]
  },
  {
   "attachments": {},
   "cell_type": "markdown",
   "metadata": {},
   "source": [
    "- *append(dato)*: \n",
    "Agrega un elemento al final de la lista."
   ]
  },
  {
   "cell_type": "code",
   "execution_count": 3,
   "metadata": {},
   "outputs": [
    {
     "name": "stdout",
     "output_type": "stream",
     "text": [
      "None\n",
      "['manzana', 'platano', 'fresas', 'pera', 'pera']\n"
     ]
    }
   ],
   "source": [
    "lista_frutas = ['manzana', 'platano', 'fresas']\n",
    "lista_frutas.append('pera')\n",
    "print(lista_frutas.append('pera')) # OJO acá sale NONE ninguno\n",
    "print(lista_frutas)"
   ]
  },
  {
   "attachments": {},
   "cell_type": "markdown",
   "metadata": {},
   "source": [
    "- *count(dato)*:\n",
    "Devuelve el número de ocurrencias del elemento."
   ]
  },
  {
   "cell_type": "code",
   "execution_count": 4,
   "metadata": {},
   "outputs": [
    {
     "name": "stdout",
     "output_type": "stream",
     "text": [
      "2\n"
     ]
    }
   ],
   "source": [
    "lista_frutas = ['manzana', 'platano', 'fresas', 'platano']\n",
    "print(lista_frutas.count('platano'))"
   ]
  },
  {
   "attachments": {},
   "cell_type": "markdown",
   "metadata": {},
   "source": [
    "- *extend(lista)*: \n",
    "Extiende la lista agregando todos los elementos de otra lista dada.\n"
   ]
  },
  {
   "cell_type": "code",
   "execution_count": 7,
   "metadata": {},
   "outputs": [
    {
     "name": "stdout",
     "output_type": "stream",
     "text": [
      "[1, 2, 3, 4, 5, 6]\n"
     ]
    }
   ],
   "source": [
    "lista_num01 = [1,2,3]\n",
    "lista_num02 = [4,5,6]\n",
    "lista_num01.extend(lista_num02)\n",
    "print(lista_num01)"
   ]
  },
  {
   "attachments": {},
   "cell_type": "markdown",
   "metadata": {},
   "source": [
    "- *index(dato)*:\n",
    "Devuelve la primera posición en la que se encuentra ese dato.\n"
   ]
  },
  {
   "cell_type": "code",
   "execution_count": 9,
   "metadata": {},
   "outputs": [
    {
     "name": "stdout",
     "output_type": "stream",
     "text": [
      "['manzana', 'platano', 'fresas']\n",
      "2\n"
     ]
    }
   ],
   "source": [
    "# Inicializando la lista\n",
    "lista_frutas01 = list()\n",
    "\n",
    "# Encapsulando dentro de una funcion\n",
    "def func_lista():\n",
    "    lista_frutas01.append('manzana')\n",
    "    lista_frutas01.append('platano')\n",
    "    lista_frutas01.append('fresas')\n",
    "\n",
    "# Hacemos uso de la lista\n",
    "func_lista()\n",
    "\n",
    "#Mostramos valores con el print\n",
    "print(lista_frutas01)\n",
    "\n",
    "# Hacemos uso del metodo index\n",
    "print(lista_frutas01.index('fresas'))\n"
   ]
  },
  {
   "attachments": {},
   "cell_type": "markdown",
   "metadata": {},
   "source": [
    "- *insert(posición, dato)*:\n",
    "Inserta un elemento en la posición dada."
   ]
  },
  {
   "cell_type": "code",
   "execution_count": 10,
   "metadata": {},
   "outputs": [
    {
     "name": "stdout",
     "output_type": "stream",
     "text": [
      "[1, 2, 'Texto', 3, 4]\n"
     ]
    }
   ],
   "source": [
    "lista_num03 = [1,2,3,4]\n",
    "lista_num03.insert(2, \"Texto\")\n",
    "print(lista_num03)"
   ]
  },
  {
   "attachments": {},
   "cell_type": "markdown",
   "metadata": {},
   "source": [
    "- *pop(posición)*: \n",
    "Quita el elemento de la posición dada y lo devuelve. Si no se indica la posición actua sobre el último elemento.\n"
   ]
  },
  {
   "cell_type": "code",
   "execution_count": 11,
   "metadata": {},
   "outputs": [
    {
     "name": "stdout",
     "output_type": "stream",
     "text": [
      "[2, 3]\n"
     ]
    }
   ],
   "source": [
    "lista_num04 = [1,2,3,4]\n",
    "# Con argumento\n",
    "lista_num04.pop(0)\n",
    "# sin argumento elimina el ultimo\n",
    "lista_num04.pop()\n",
    "print(lista_num04)"
   ]
  },
  {
   "attachments": {},
   "cell_type": "markdown",
   "metadata": {},
   "source": [
    "- *revome(dato)*:\n",
    "Elimina la primera ocurrencia del dato, lanza una excepción en caso de no encontrarlo."
   ]
  },
  {
   "cell_type": "code",
   "execution_count": 2,
   "metadata": {},
   "outputs": [
    {
     "name": "stdout",
     "output_type": "stream",
     "text": [
      "[1, 2, 3]\n"
     ]
    },
    {
     "ename": "ValueError",
     "evalue": "list.remove(x): x not in list",
     "output_type": "error",
     "traceback": [
      "\u001b[1;31m---------------------------------------------------------------------------\u001b[0m",
      "\u001b[1;31mValueError\u001b[0m                                Traceback (most recent call last)",
      "Cell \u001b[1;32mIn[2], line 7\u001b[0m\n\u001b[0;32m      4\u001b[0m \u001b[39mprint\u001b[39m(lista_num05)\n\u001b[0;32m      6\u001b[0m \u001b[39m#muestra error sino lo encuentra\u001b[39;00m\n\u001b[1;32m----> 7\u001b[0m lista_num05\u001b[39m.\u001b[39;49mremove(\u001b[39m5\u001b[39;49m)\n\u001b[0;32m      8\u001b[0m \u001b[39mprint\u001b[39m(lista_num05)\n",
      "\u001b[1;31mValueError\u001b[0m: list.remove(x): x not in list"
     ]
    }
   ],
   "source": [
    "lista_num05 = [1,2,3,4]\n",
    "#elimina el objeto mientras exista en la lista\n",
    "lista_num05.remove(4)\n",
    "print(lista_num05)\n",
    "\n",
    "#muestra error sino lo encuentra\n",
    "lista_num05.remove(5)\n",
    "print(lista_num05)\n"
   ]
  },
  {
   "attachments": {},
   "cell_type": "markdown",
   "metadata": {},
   "source": [
    "- *reverse()*:\n",
    "Invierte los elementos de la lista.\n"
   ]
  },
  {
   "cell_type": "code",
   "execution_count": 4,
   "metadata": {},
   "outputs": [
    {
     "name": "stdout",
     "output_type": "stream",
     "text": [
      "[4, 3, 5, 2, 1]\n"
     ]
    }
   ],
   "source": [
    "lista_num06 = [1,2,5,3,4]\n",
    "lista_num06.reverse()\n",
    "print(lista_num06)"
   ]
  },
  {
   "attachments": {},
   "cell_type": "markdown",
   "metadata": {},
   "source": [
    "- *sort()*:\n",
    "Por defecto ordena de forma ascendente los elementos de la lista. Aunque también es posible indicarle en qué sentido ordene los elementos.\n"
   ]
  },
  {
   "cell_type": "code",
   "execution_count": 8,
   "metadata": {},
   "outputs": [
    {
     "name": "stdout",
     "output_type": "stream",
     "text": [
      "[1, 2, 3, 4, 5]\n",
      "[5, 4, 3, 2, 1]\n"
     ]
    }
   ],
   "source": [
    "lista_num07 = [1,3,5,2,4]\n",
    "\n",
    "# ordena forma ascendente\n",
    "lista_num07.sort()\n",
    "print(lista_num07)\n",
    "\n",
    "\n",
    "# ordena forma ascendente\n",
    "lista_num07.sort(reverse=True)\n",
    "print(lista_num07)\n"
   ]
  },
  {
   "attachments": {},
   "cell_type": "markdown",
   "metadata": {},
   "source": [
    "- *clear()*:\n",
    "Elimina el contenido de la lista"
   ]
  },
  {
   "cell_type": "code",
   "execution_count": 9,
   "metadata": {},
   "outputs": [
    {
     "name": "stdout",
     "output_type": "stream",
     "text": [
      "[]\n"
     ]
    }
   ],
   "source": [
    "lista_num08 = [1,2,3,5,4]\n",
    "lista_num08.clear()\n",
    "print(lista_num08)\n",
    "\n",
    "\n",
    "#  Listas\n",
    "#  Matrices\n",
    "## Listas de listas\n",
    "## [[],[].[]]"
   ]
  },
  {
   "attachments": {},
   "cell_type": "markdown",
   "metadata": {},
   "source": [
    "### b. Diccionarios(dict):\n",
    "- Un diccionario es una colección de pares de clave y valor."
   ]
  },
  {
   "cell_type": "code",
   "execution_count": 14,
   "metadata": {},
   "outputs": [
    {
     "name": "stdout",
     "output_type": "stream",
     "text": [
      "{'01': 'Enero', '02': 'Febreo'}\n",
      "{'m_total': 10.5, 'm_igv': 7, 'estado': True}\n",
      "{'m_total': 10.5, 'm_igv': 7, 'estado': True, 'lista': ['Objeto01', 'Objeto02', 5, 4.5]}\n"
     ]
    },
    {
     "data": {
      "text/plain": [
       "dict"
      ]
     },
     "execution_count": 14,
     "metadata": {},
     "output_type": "execute_result"
    }
   ],
   "source": [
    "diccionario = {\"01\":\"Enero\", \"02\":\"Febreo\"}\n",
    "print(diccionario)\n",
    "dic_monto ={\"m_total\": 10.5, \"m_igv\": 7, \"estado\": True}\n",
    "print(dic_monto)\n",
    "\n",
    "# Manera de iniciar un diccionario\n",
    "dic01 = {}\n",
    "dic02 = dict()\n",
    "dic02 = dict({'m_total':10.5, \"m_igv\": 7, \"estado\": True, 'lista': [\"Objeto01\", \"Objeto02\", 5, 4.5]})\n",
    "print(dic02)\n",
    "type(dic02)"
   ]
  },
  {
   "attachments": {},
   "cell_type": "markdown",
   "metadata": {},
   "source": [
    "##### Metodos:"
   ]
  },
  {
   "attachments": {},
   "cell_type": "markdown",
   "metadata": {},
   "source": [
    "- *clear()*:\n",
    "Elimina todos los elementos del diccionario.\n"
   ]
  },
  {
   "cell_type": "code",
   "execution_count": 1,
   "metadata": {},
   "outputs": [
    {
     "name": "stdout",
     "output_type": "stream",
     "text": [
      "{'nombre': 'Manzana', 'cantidad': 5}\n",
      "{}\n"
     ]
    }
   ],
   "source": [
    "frutas= {'nombre': 'Manzana', 'cantidad': 5 }\n",
    "print(frutas)\n",
    "frutas.clear()\n",
    "print(frutas)"
   ]
  },
  {
   "attachments": {},
   "cell_type": "markdown",
   "metadata": {},
   "source": [
    "- *copy()*:\n",
    "Hace una copia superficial del diccionario.\n"
   ]
  },
  {
   "cell_type": "code",
   "execution_count": 16,
   "metadata": {},
   "outputs": [
    {
     "name": "stdout",
     "output_type": "stream",
     "text": [
      "{'nombre': 'Manzana', 'Cantidad': 5}\n"
     ]
    }
   ],
   "source": [
    "frutas01 = {'nombre': 'Manzana', 'Cantidad': 5}\n",
    "var_x = frutas01.copy()\n",
    "print(var_x)"
   ]
  },
  {
   "attachments": {},
   "cell_type": "markdown",
   "metadata": {},
   "source": [
    "- *fromkeys()*:\n",
    "Crea un nuevo diccionario a partir de una colección de claves y un valor. En caso de que no se proporcione el valor por defecto pone NONE.\n"
   ]
  },
  {
   "cell_type": "code",
   "execution_count": 2,
   "metadata": {},
   "outputs": [
    {
     "name": "stdout",
     "output_type": "stream",
     "text": [
      "{'nombre': 'otros', 'Cantidad': 'otros'}\n",
      "{'nombre': None, 'Cantidad': None}\n"
     ]
    }
   ],
   "source": [
    "frutas02 = {'nombre': 'Manzana', 'Cantidad': 5}\n",
    "var_y = \"otros\"\n",
    "diccionario = dict.fromkeys(frutas02, var_y)\n",
    "print(diccionario)\n",
    "diccionario = dict.fromkeys(frutas02) #aquí no asignamos valor\n",
    "print(diccionario)"
   ]
  },
  {
   "attachments": {},
   "cell_type": "markdown",
   "metadata": {},
   "source": [
    "- *get()*:\n",
    "Obtiene el valor de un elemento de la clave dada.\n"
   ]
  },
  {
   "cell_type": "code",
   "execution_count": 21,
   "metadata": {},
   "outputs": [
    {
     "name": "stdout",
     "output_type": "stream",
     "text": [
      "{'nombre': 'Manzana', 'cantidad': 5}\n",
      "5\n"
     ]
    }
   ],
   "source": [
    "frutas03 = {'nombre': 'Manzana', 'cantidad': 5}\n",
    "print(frutas03)\n",
    "var_z = frutas03.get('cantidad')\n",
    "print(var_z)"
   ]
  },
  {
   "attachments": {},
   "cell_type": "markdown",
   "metadata": {},
   "source": [
    "- *items()*:\n",
    "Lista todos los elementos del diccionario en forma de tuplas.\n"
   ]
  },
  {
   "cell_type": "code",
   "execution_count": 1,
   "metadata": {},
   "outputs": [
    {
     "name": "stdout",
     "output_type": "stream",
     "text": [
      "dict_items([('nombre', 'Manzana'), ('cantidad', 5)])\n"
     ]
    }
   ],
   "source": [
    "frutas04 = {'nombre': 'Manzana', 'cantidad': 5}\n",
    "print(frutas04.items())"
   ]
  },
  {
   "attachments": {},
   "cell_type": "markdown",
   "metadata": {},
   "source": [
    "- *keys()*:\n",
    "Lista las claves del diccionario.\n"
   ]
  },
  {
   "cell_type": "code",
   "execution_count": 2,
   "metadata": {},
   "outputs": [
    {
     "name": "stdout",
     "output_type": "stream",
     "text": [
      "dict_keys(['nombre', 'cantidad'])\n"
     ]
    }
   ],
   "source": [
    "frutas05 = {'nombre': 'Manzana', 'cantidad': 5}\n",
    "print(frutas05.keys())"
   ]
  },
  {
   "attachments": {},
   "cell_type": "markdown",
   "metadata": {},
   "source": [
    "- *pop()*:\n",
    "Quita el elemento que coincide con la clave dada y devuelve el valor correspondiente.\n"
   ]
  },
  {
   "cell_type": "code",
   "execution_count": 22,
   "metadata": {},
   "outputs": [
    {
     "name": "stdout",
     "output_type": "stream",
     "text": [
      "{'nombre': 'Manzana', 'cantidad': 5, 'marca': 'Don Juan'}\n",
      "{'nombre': 'Manzana', 'marca': 'Don Juan'}\n"
     ]
    }
   ],
   "source": [
    "frutas06 = {'nombre': 'Manzana', 'cantidad': 5, 'marca': 'Don Juan'}\n",
    "print(frutas06)\n",
    "frutas06.pop('cantidad')\n",
    "print(frutas06)"
   ]
  },
  {
   "attachments": {},
   "cell_type": "markdown",
   "metadata": {},
   "source": [
    "- *popitem()*:\n",
    "Elimina el elemento que se insertó por última vez en el diccionario.\n"
   ]
  },
  {
   "cell_type": "code",
   "execution_count": 23,
   "metadata": {},
   "outputs": [
    {
     "name": "stdout",
     "output_type": "stream",
     "text": [
      "{'nombre': 'Manzana', 'cantidad': 5}\n"
     ]
    }
   ],
   "source": [
    "frutas07 = {'nombre': 'Manzana', 'cantidad': 5, 'marca': 'Don Juan'}\n",
    "frutas07.popitem()\n",
    "print(frutas07)"
   ]
  },
  {
   "attachments": {},
   "cell_type": "markdown",
   "metadata": {},
   "source": [
    "- *setdefault()*:\n",
    "Devuelve el valor de la clave especificada. Si la clave no existe: inserte la clave, con el valor especificado.\n"
   ]
  },
  {
   "cell_type": "code",
   "execution_count": 4,
   "metadata": {},
   "outputs": [
    {
     "name": "stdout",
     "output_type": "stream",
     "text": [
      "{'nombre': 'Manzana', 'cantidad': 5, 'marca': 'Don Juan', 'color': 'rojo'}\n",
      "rojo\n",
      "----------------------------------------------------------------------------\n",
      "{'nombre': 'Manzana', 'cantidad': 5, 'marca': 'Don Juan', 'color': 'Rojo'}\n"
     ]
    }
   ],
   "source": [
    "# Primera forma\n",
    "frutas08 = {'nombre': 'Manzana', 'cantidad': 5, 'marca': 'Don Juan'}\n",
    "\n",
    "frutas08.setdefault('color', 'rojo')\n",
    "print(frutas08)\n",
    "print(frutas08['color'])\n",
    "\n",
    "\n",
    "print(\"----------------------------------------------------------------------------\")\n",
    "\n",
    "# Otra forma\n",
    "frutas08_2 = {'nombre': 'Manzana', 'cantidad': 5, 'marca': 'Don Juan'}\n",
    "frutas08_2['color'] = \"Rojo\"\n",
    "print(frutas08_2)\n"
   ]
  },
  {
   "attachments": {},
   "cell_type": "markdown",
   "metadata": {},
   "source": [
    "- *update()*:\n",
    "Actualiza el diccionario a partir de claves y datos dados, puede ser a través de otro diccionario o de una lista de tuplas.\n"
   ]
  },
  {
   "cell_type": "code",
   "execution_count": 5,
   "metadata": {},
   "outputs": [
    {
     "name": "stdout",
     "output_type": "stream",
     "text": [
      "{'nombre': 'Manzana', 'cantidad': 5, 'marca': 'Don Juan'}\n",
      "{'nombre': 'Manzana', 'cantidad': 5, 'marca': 'Chilena'}\n",
      "{'nombre': 'Manzana', 'cantidad': 5, 'marca': 'Peruana'}\n"
     ]
    }
   ],
   "source": [
    "frutas09 = {'nombre': 'Manzana', 'cantidad': 5, 'marca': 'Don Juan'}\n",
    "print(frutas09)\n",
    "frutas09.update({'marca': 'Chilena'})\n",
    "print(frutas09)\n",
    "\n",
    "print(\"----------------------------------------------------------------------------\")\n",
    "\n",
    "frutas09_2 = {'nombre': 'Manzana', 'cantidad': 5, 'marca': 'Don Juan'}\n",
    "frutas09_2['marca'] = \"Peruana\"\n",
    "print(frutas09_2)"
   ]
  },
  {
   "attachments": {},
   "cell_type": "markdown",
   "metadata": {},
   "source": [
    "- *values()*:\n",
    "Lista los valores del diccionario."
   ]
  },
  {
   "cell_type": "code",
   "execution_count": 28,
   "metadata": {},
   "outputs": [
    {
     "name": "stdout",
     "output_type": "stream",
     "text": [
      "{'nombre': 'Manzana', 'cantidad': 5, 'marca': 'Don Juan'}\n",
      "dict_values(['Manzana', 5, 'Don Juan'])\n"
     ]
    }
   ],
   "source": [
    "frutas10 = {'nombre': 'Manzana', 'cantidad': 5, 'marca': 'Don Juan'}\n",
    "print(frutas10)\n",
    "print(frutas10.values())\n",
    "\n",
    "####################################\n",
    "#|nombres   |apellidos  |genero     |nros. telefonicos\n",
    "#-----------------------------------\n",
    "#|Carlos   |Gomez      |M           |976901730\n",
    "#|Diana    |Perez      |F           |970088965\n",
    "#|Sofia    |Ramirez   |F            |985315624-985632145\n",
    "###################################\n",
    "\n",
    "dic_ejem = [\n",
    "    {'nombres': 'Carlos', 'apellidos': 'Gomez', 'genero': 'M', 'nro_tef': ['976901730'] },\n",
    "    {'nombres': 'Diana', 'apellidos': 'Perez', 'genero': 'F', 'nro_tef': ['970088965'] },\n",
    "    {'nombres': 'Sofia', 'apellidos': 'Ramirez', 'genero': 'F   ', 'nro_tef': ['985315624', '985632145' ] }\n",
    "]\n"
   ]
  },
  {
   "attachments": {},
   "cell_type": "markdown",
   "metadata": {},
   "source": [
    "### c. Conjuntos(Set):\n",
    "- Un conjunto es una colección de datos no ordenados que tiene como característica principal no incluir ningún elemento repetido."
   ]
  },
  {
   "cell_type": "code",
   "execution_count": 7,
   "metadata": {},
   "outputs": [
    {
     "name": "stdout",
     "output_type": "stream",
     "text": [
      "{'5', '1', '2', '3', '4'}\n",
      "{1, 2, 3, 4, 5}\n"
     ]
    }
   ],
   "source": [
    "conjunto = set(['1', '2','3', '4', '5'])\n",
    "print(conjunto)  #Devuelve forma aleatoria\n",
    "\n",
    "conjunto02 = set([1,2,4,3,4,5,2])\n",
    "print(conjunto02) # si hay repeticion elimina elenemto"
   ]
  },
  {
   "attachments": {},
   "cell_type": "markdown",
   "metadata": {},
   "source": [
    "##### Metodos:"
   ]
  },
  {
   "attachments": {},
   "cell_type": "markdown",
   "metadata": {},
   "source": [
    "- *add()*:\n",
    "Agrega un el elemento al conjunto. No tiene efecto si ya existe el elemento en el conjunto."
   ]
  },
  {
   "cell_type": "code",
   "execution_count": 3,
   "metadata": {},
   "outputs": [
    {
     "name": "stdout",
     "output_type": "stream",
     "text": [
      "{'1', '4', '5', '2', '3', '6'}\n"
     ]
    },
    {
     "data": {
      "text/plain": [
       "set"
      ]
     },
     "execution_count": 3,
     "metadata": {},
     "output_type": "execute_result"
    }
   ],
   "source": [
    "conj_numeros = set(['1', '2', '3', '4', '5'])\n",
    "#var_d = set(['7', '8', '9', '10', '11'])\n",
    "#conj_numeros.add(var_d)\n",
    "conj_numeros.add('6')\n",
    "print(conj_numeros)\n",
    "type(conj_numeros)"
   ]
  },
  {
   "attachments": {},
   "cell_type": "markdown",
   "metadata": {},
   "source": [
    "- *clear()*:\n",
    "\t\tElimina todos los elementos del conjunto."
   ]
  },
  {
   "cell_type": "code",
   "execution_count": 32,
   "metadata": {},
   "outputs": [
    {
     "name": "stdout",
     "output_type": "stream",
     "text": [
      "set()\n"
     ]
    }
   ],
   "source": [
    "conj_numeros01 = set(['1', '2', '3', '4', '5'])\n",
    "conj_numeros01.clear()\n",
    "print(conj_numeros01)"
   ]
  },
  {
   "attachments": {},
   "cell_type": "markdown",
   "metadata": {},
   "source": [
    "- *copy()*:\n",
    "Regresa una copia superficial del conjunto."
   ]
  },
  {
   "cell_type": "code",
   "execution_count": 5,
   "metadata": {},
   "outputs": [
    {
     "name": "stdout",
     "output_type": "stream",
     "text": [
      "{'1', '4', '5', '2', '3'}\n",
      "{'12', '7', '11', '9', '8', '10'}\n"
     ]
    }
   ],
   "source": [
    "conj_numeros02 = set(['1', '2', '3', '4', '5'])\n",
    "var_e = set(['7', '8', '9', '10', '11', '12'])\n",
    "print(conj_numeros02)\n",
    "conj_numeros02 = var_e.copy() #copia enseima lo reemplaza\n",
    "print(conj_numeros02)\n",
    "\n"
   ]
  },
  {
   "attachments": {},
   "cell_type": "markdown",
   "metadata": {},
   "source": [
    "- *difference()*:\n",
    "Devuelve un conjunto que contiene la diferencia entre dos conjuntos. El conjunto devuelto contiene elementos que existen solo en el primer conjunto y no en ambos conjuntos."
   ]
  },
  {
   "cell_type": "code",
   "execution_count": 6,
   "metadata": {},
   "outputs": [
    {
     "name": "stdout",
     "output_type": "stream",
     "text": [
      "{'1', '4', '5', '2', '3', '6'}\n"
     ]
    }
   ],
   "source": [
    "conj_numeros03 = set(['1', '2', '3', '4', '5', '6','7'])\n",
    "var_f = set(['7', '8', '9', '10', '11'])\n",
    "var_dif = conj_numeros03.difference(var_f)\n",
    "print(var_dif)"
   ]
  },
  {
   "attachments": {},
   "cell_type": "markdown",
   "metadata": {},
   "source": [
    "- *intersection()*:\n",
    "Regresa la intersección de dos o más conjuntos en un nuevo conjunto.\n"
   ]
  },
  {
   "cell_type": "code",
   "execution_count": 10,
   "metadata": {},
   "outputs": [
    {
     "name": "stdout",
     "output_type": "stream",
     "text": [
      "{'7', '6'}\n"
     ]
    }
   ],
   "source": [
    "conj_numeros04 = set(['1', '2', '3', '4', '5', '6','7'])\n",
    "var_g = set(['6','7', '8', '9', '10', '11'])\n",
    "var_int = conj_numeros04.intersection(var_g)\n",
    "print(var_int)"
   ]
  },
  {
   "attachments": {},
   "cell_type": "markdown",
   "metadata": {},
   "source": [
    "- *pop()*:\n",
    "Elimina un elemento aleatorio del conjunto."
   ]
  },
  {
   "cell_type": "code",
   "execution_count": 16,
   "metadata": {},
   "outputs": [
    {
     "name": "stdout",
     "output_type": "stream",
     "text": [
      "{'1', '4', '5', '2', '7', '3', '6'}\n",
      "{'4', '5', '2', '7', '3', '6'}\n"
     ]
    }
   ],
   "source": [
    "conj_numeros05 = set(['1', '2', '3', '4', '5', '6','7'])\n",
    "print(conj_numeros05)\n",
    "conj_numeros05.pop()\n",
    "print(conj_numeros05)"
   ]
  },
  {
   "attachments": {},
   "cell_type": "markdown",
   "metadata": {},
   "source": [
    "- *discard()*: Elimina un elemento, no tiene ningun error en caso no exista elemento"
   ]
  },
  {
   "cell_type": "code",
   "execution_count": 20,
   "metadata": {},
   "outputs": [
    {
     "name": "stdout",
     "output_type": "stream",
     "text": [
      "{'1', '4', '5', '2', '7', '3', '6'}\n",
      "{'1', '4', '2', '7', '3', '6'}\n"
     ]
    }
   ],
   "source": [
    "conj_numeros06 = set(['1', '2', '3', '4', '5', '6','7'])\n",
    "print(conj_numeros06)\n",
    "conj_numeros06.discard('5')\n",
    "print(conj_numeros06)"
   ]
  },
  {
   "attachments": {},
   "cell_type": "markdown",
   "metadata": {},
   "source": [
    "- *remove()*:\n",
    "Elimina el elemento especificado del conjunto. Este método es diferente del discard(), porque el remove() generará un error si el elemento especificado no existe, y el discard() no lo hará."
   ]
  },
  {
   "cell_type": "code",
   "execution_count": 21,
   "metadata": {},
   "outputs": [
    {
     "name": "stdout",
     "output_type": "stream",
     "text": [
      "{'1', '4', '5', '2', '7', '3', '6'}\n"
     ]
    },
    {
     "ename": "KeyError",
     "evalue": "'8'",
     "output_type": "error",
     "traceback": [
      "\u001b[1;31m---------------------------------------------------------------------------\u001b[0m",
      "\u001b[1;31mKeyError\u001b[0m                                  Traceback (most recent call last)",
      "Cell \u001b[1;32mIn[21], line 3\u001b[0m\n\u001b[0;32m      1\u001b[0m conj_numeros06 \u001b[39m=\u001b[39m \u001b[39mset\u001b[39m([\u001b[39m'\u001b[39m\u001b[39m1\u001b[39m\u001b[39m'\u001b[39m, \u001b[39m'\u001b[39m\u001b[39m2\u001b[39m\u001b[39m'\u001b[39m, \u001b[39m'\u001b[39m\u001b[39m3\u001b[39m\u001b[39m'\u001b[39m, \u001b[39m'\u001b[39m\u001b[39m4\u001b[39m\u001b[39m'\u001b[39m, \u001b[39m'\u001b[39m\u001b[39m5\u001b[39m\u001b[39m'\u001b[39m, \u001b[39m'\u001b[39m\u001b[39m6\u001b[39m\u001b[39m'\u001b[39m,\u001b[39m'\u001b[39m\u001b[39m7\u001b[39m\u001b[39m'\u001b[39m])\n\u001b[0;32m      2\u001b[0m \u001b[39mprint\u001b[39m(conj_numeros06)\n\u001b[1;32m----> 3\u001b[0m conj_numeros06\u001b[39m.\u001b[39;49mremove(\u001b[39m'\u001b[39;49m\u001b[39m8\u001b[39;49m\u001b[39m'\u001b[39;49m)\n\u001b[0;32m      4\u001b[0m \u001b[39mprint\u001b[39m(conj_numeros06)\n",
      "\u001b[1;31mKeyError\u001b[0m: '8'"
     ]
    }
   ],
   "source": [
    "conj_numeros07 = set(['1', '2', '3', '4', '5', '6','7'])\n",
    "print(conj_numeros07)\n",
    "conj_numeros07.remove('8')\n",
    "print(conj_numeros07)"
   ]
  },
  {
   "attachments": {},
   "cell_type": "markdown",
   "metadata": {},
   "source": [
    "- *union()*:\n",
    "Devuelve un conjunto que contiene todos los elementos del conjunto original y todos los elementos de los conjuntos especificados. Si un elemento está presente en más de un conjunto, el resultado contendrá solo una apariencia de este elemento."
   ]
  },
  {
   "cell_type": "code",
   "execution_count": 36,
   "metadata": {},
   "outputs": [
    {
     "name": "stdout",
     "output_type": "stream",
     "text": [
      "{'2', '3', '4', '1', '5', '6', '7'}\n",
      "{'2', '3', '4', '1', '5', '6', '11', '9', '7', '8', '10'}\n"
     ]
    }
   ],
   "source": [
    "conj_numeros08 = set(['1', '2', '3', '4', '5', '6','7'])\n",
    "print(conj_numeros08)\n",
    "var_h = set(['6', '7', '8', '9', '10', '11'])\n",
    "conj_otro = conj_numeros08.union(var_h)\n",
    "print(conj_otro)"
   ]
  },
  {
   "attachments": {},
   "cell_type": "markdown",
   "metadata": {},
   "source": [
    "- *update()*:\n",
    "Actualiza el conjunto actual, agregando elementos de otro conjunto (o cualquier otro iterable). Si un elemento está presente en ambos conjuntos, solo una apariencia de este elemento estará presente en el conjunto actualizado."
   ]
  },
  {
   "cell_type": "code",
   "execution_count": 23,
   "metadata": {},
   "outputs": [
    {
     "name": "stdout",
     "output_type": "stream",
     "text": [
      "{'1', '4', '5', '2', '7', '3', '6'}\n",
      "{'1', '4', '11', '8', '5', '2', '7', '9', '10', '3', '6'}\n"
     ]
    }
   ],
   "source": [
    "conj_numeros09 = set(['1', '2', '3', '4', '5', '6','7'])\n",
    "print(conj_numeros09)\n",
    "var_up = set(['6', '7', '8', '9', '10', '11'])\n",
    "conj_numeros09.update(var_up)\n",
    "print(conj_numeros09)"
   ]
  },
  {
   "attachments": {},
   "cell_type": "markdown",
   "metadata": {},
   "source": [
    "- PRACTICANDO OTRO"
   ]
  },
  {
   "cell_type": "code",
   "execution_count": 25,
   "metadata": {},
   "outputs": [
    {
     "data": {
      "text/plain": [
       "4"
      ]
     },
     "execution_count": 25,
     "metadata": {},
     "output_type": "execute_result"
    }
   ],
   "source": [
    "mi_conjunto = set([1, 2, 5, 3, 1, 5])\n",
    "len(mi_conjunto)\n",
    "#print(mi_conjunto)"
   ]
  },
  {
   "cell_type": "code",
   "execution_count": 26,
   "metadata": {},
   "outputs": [
    {
     "name": "stdout",
     "output_type": "stream",
     "text": [
      "True\n",
      "False\n",
      "False\n"
     ]
    }
   ],
   "source": [
    "mi_conjunto = set([1, 2, 5, 3, 1, 5])\n",
    "print(1 in mi_conjunto)\n",
    "\n",
    "print(6 in mi_conjunto)\n",
    "\n",
    "print(2 not in mi_conjunto)\n"
   ]
  },
  {
   "cell_type": "code",
   "execution_count": 27,
   "metadata": {},
   "outputs": [
    {
     "data": {
      "text/plain": [
       "{1, 2, 3, 4, 6, 8}"
      ]
     },
     "execution_count": 27,
     "metadata": {},
     "output_type": "execute_result"
    }
   ],
   "source": [
    "# UNION\n",
    "a = {1, 2, 3, 4}\n",
    "b = {2, 4, 6, 8}\n",
    "a | b\n"
   ]
  },
  {
   "cell_type": "code",
   "execution_count": 28,
   "metadata": {},
   "outputs": [
    {
     "data": {
      "text/plain": [
       "{2, 4}"
      ]
     },
     "execution_count": 28,
     "metadata": {},
     "output_type": "execute_result"
    }
   ],
   "source": [
    "# INTERSECCION\n",
    "a = {1, 2, 3, 4}\n",
    "b = {2, 4, 6, 8}\n",
    "a & b\n"
   ]
  },
  {
   "cell_type": "code",
   "execution_count": 29,
   "metadata": {},
   "outputs": [
    {
     "data": {
      "text/plain": [
       "{1, 3}"
      ]
     },
     "execution_count": 29,
     "metadata": {},
     "output_type": "execute_result"
    }
   ],
   "source": [
    "# DIFERENCIA\n",
    "\n",
    "a = {1, 2, 3, 4}\n",
    "b = {2, 4, 6, 8}\n",
    "a - b\n"
   ]
  },
  {
   "cell_type": "code",
   "execution_count": 30,
   "metadata": {},
   "outputs": [
    {
     "data": {
      "text/plain": [
       "{1, 3, 6, 8}"
      ]
     },
     "execution_count": 30,
     "metadata": {},
     "output_type": "execute_result"
    }
   ],
   "source": [
    "# Diferencia simétrica\n",
    "## La diferencia simétrica entre dos conjuntos A y B es el conjunto que contiene los elementos de A y B que no son comunes. \n",
    "\n",
    "a = {1, 2, 3, 4}\n",
    "b = {2, 4, 6, 8}\n",
    "a ^ b"
   ]
  },
  {
   "cell_type": "code",
   "execution_count": 31,
   "metadata": {},
   "outputs": [
    {
     "data": {
      "text/plain": [
       "True"
      ]
     },
     "execution_count": 31,
     "metadata": {},
     "output_type": "execute_result"
    }
   ],
   "source": [
    "#Inclusión de conjuntos en Python\n",
    "#Dado un conjunto A, subcolección del conjunto B o igual a este, sus elementos son un subconjunto de B. Es decir, A es un subconjunto de B y B es un superconjunto de A.\n",
    "\n",
    "#En Python se utiliza el operador <= para comprobar si un conjunto A es subconjunto de B y el operador >= para comprobar si un conjunto A es superconjunto de B.\n",
    "\n",
    "a = {1, 2}\n",
    "b = {1, 2, 3, 4}\n",
    "a <= b\n",
    "# TRUE\n",
    "a >= b\n",
    "# False\n",
    "b >= a\n",
    "# TRUE\n",
    "a = {1, 2}\n",
    "b = {1, 2}\n",
    "a < b  # Ojo al operador < sin el =\n",
    "# False\n",
    "a <= b\n",
    "# TRUE"
   ]
  },
  {
   "cell_type": "code",
   "execution_count": 32,
   "metadata": {},
   "outputs": [
    {
     "data": {
      "text/plain": [
       "True"
      ]
     },
     "execution_count": 32,
     "metadata": {},
     "output_type": "execute_result"
    }
   ],
   "source": [
    "# Conjuntos disjuntos en Python\n",
    "# Dos conjuntos A y B son disjuntos si no tienen elementos en común, es decir, la intersección de A y B es el conjunto vacío.\n",
    "\n",
    "# En Python se utiliza el método isdisjoint() de la clase set para comprobar si un conjunto es disjunto de otro\n",
    "\n",
    "a = {1, 2}\n",
    "b = {1, 2, 3, 4}\n",
    "a.isdisjoint(b)\n",
    "## False\n",
    "a = {1, 2}\n",
    "b = {3, 4}\n",
    "a.isdisjoint(b)\n",
    "## True"
   ]
  },
  {
   "cell_type": "code",
   "execution_count": 34,
   "metadata": {},
   "outputs": [
    {
     "data": {
      "text/plain": [
       "True"
      ]
     },
     "execution_count": 34,
     "metadata": {},
     "output_type": "execute_result"
    }
   ],
   "source": [
    "# Igualdad de conjuntos en Python\n",
    "# En Python dos conjuntos son iguales si y solo si todos los elementos de un conjunto están contenidos en el otro. Esto quiere decir que cada uno es un subconjunto del otro.\n",
    "\n",
    "a = {1, 2}\n",
    "b = {1, 2}\n",
    "id(a)\n",
    "4475070656\n",
    "id(b)\n",
    "4475072096\n",
    "a == b\n",
    "###True"
   ]
  },
  {
   "cell_type": "code",
   "execution_count": null,
   "metadata": {},
   "outputs": [],
   "source": []
  }
 ],
 "metadata": {
  "kernelspec": {
   "display_name": "Python 3",
   "language": "python",
   "name": "python3"
  },
  "language_info": {
   "codemirror_mode": {
    "name": "ipython",
    "version": 3
   },
   "file_extension": ".py",
   "mimetype": "text/x-python",
   "name": "python",
   "nbconvert_exporter": "python",
   "pygments_lexer": "ipython3",
   "version": "3.11.2"
  },
  "orig_nbformat": 4,
  "vscode": {
   "interpreter": {
    "hash": "c261aea317cc0286b3b3261fbba9abdec21eaa57589985bb7a274bf54d6cc0a7"
   }
  }
 },
 "nbformat": 4,
 "nbformat_minor": 2
}
