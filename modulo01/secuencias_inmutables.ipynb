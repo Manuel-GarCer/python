{
 "cells": [
  {
   "attachments": {},
   "cell_type": "markdown",
   "id": "d7f2569c",
   "metadata": {},
   "source": [
    "# Secuencias inmutables\n",
    "- No es posible cambiar, modificar o actualizar el contenido a un tipo de dato inmutable, aunque como en cualquier variable sí es posible asignarle un nuevo valor."
   ]
  },
  {
   "cell_type": "code",
   "execution_count": 2,
   "id": "7fc9b6b0",
   "metadata": {},
   "outputs": [
    {
     "name": "stdout",
     "output_type": "stream",
     "text": [
      "Hola mundo...!!!\n"
     ]
    }
   ],
   "source": [
    "variable = \"Hola mundo...!!!\" \n",
    "print(variable)"
   ]
  },
  {
   "attachments": {},
   "cell_type": "markdown",
   "id": "f3e575ea",
   "metadata": {},
   "source": [
    "- Si se quiere cambiar la letra m y sustituirla por M, no es posible con este tipo de dato, lo que se puede hacer es asignar la nueva cadena a esa misma variable."
   ]
  },
  {
   "cell_type": "code",
   "execution_count": 5,
   "id": "fe9136bd",
   "metadata": {},
   "outputs": [
    {
     "name": "stdout",
     "output_type": "stream",
     "text": [
      "Hola mundo...\n",
      "Este es otro texto\n"
     ]
    }
   ],
   "source": [
    "print(variable)\n",
    "variable = \"Este es otro texto\"\n",
    "print(variable)"
   ]
  },
  {
   "attachments": {},
   "cell_type": "markdown",
   "id": "8a0f504b",
   "metadata": {},
   "source": [
    "- Pero no podemos iterar carácter por carácter para cambiar una parte o segmento de la cadena. Es precisamente esta la diferencia entre los tipos de datos inmutables y mutables."
   ]
  },
  {
   "cell_type": "code",
   "execution_count": 6,
   "id": "81798f93",
   "metadata": {},
   "outputs": [
    {
     "name": "stdout",
     "output_type": "stream",
     "text": [
      "Hola mundo\n",
      "m\n"
     ]
    }
   ],
   "source": [
    "cadena = \"Hola mundo\"\n",
    "print(cadena)\n",
    "print(cadena[5])  # al paser caracter por cacracter es iteración\n",
    "# cadena[5] = \"M\" # nos va salir error por ser inmutable y no se puede cambiar\n"
   ]
  },
  {
   "attachments": {},
   "cell_type": "markdown",
   "id": "ecbbfa2a",
   "metadata": {},
   "source": [
    "## Tipos de datos inmutables"
   ]
  },
  {
   "attachments": {},
   "cell_type": "markdown",
   "id": "f075af9f",
   "metadata": {},
   "source": [
    "### a.\tint\n",
    "Tiene como representación a los números enteros positivos y negativos"
   ]
  },
  {
   "cell_type": "code",
   "execution_count": 12,
   "id": "729b2b49",
   "metadata": {},
   "outputs": [
    {
     "name": "stdout",
     "output_type": "stream",
     "text": [
      "10\n",
      "-5\n",
      "El resultado de la suma es: 5\n",
      "El resultado de la resta es: 15\n",
      "El resultado de la multiplicacion es: -50\n",
      "El resultado de la division es: -2.0\n",
      "El resto de la division es: -2\n",
      "El residuo de la division es: 0\n",
      "El resultado de la operación es: 0\n",
      "El resultado de la potencia es: 100\n",
      "El resultado de la raiz es: 10.0\n"
     ]
    }
   ],
   "source": [
    "# Numero positivos y negativos int = \"enteros\"\n",
    "var_a = 10\n",
    "var_b = -5\n",
    "\n",
    "print(var_a)\n",
    "print(var_b)\n",
    "\n",
    "# Funcion para saber el tipo de dato\n",
    "# type(var_a)\n",
    "# type(var_b)\n",
    "\n",
    "# Operaciones Matematicas\n",
    "print (\"El resultado de la suma es:\", var_a + var_b)\n",
    "print (\"El resultado de la resta es:\", var_a - var_b)\n",
    "print (\"El resultado de la multiplicacion es:\", var_a * var_b)\n",
    "print (\"El resultado de la division es:\", var_a / var_b)\n",
    "print (\"El resultado de la division entera es:\", var_a // var_b)\n",
    "print (\"El residuo de la division es:\", var_a % var_b)\n",
    "print (\"El resultado de la operación es:\", (var_a + var_b) - var_b + (var_b * 2))\n",
    "print (\"El resultado de la potencia es:\", var_a ** 2)\n",
    "print (\"El resultado de la raiz es:\", 100 ** (1/2))\n"
   ]
  },
  {
   "attachments": {},
   "cell_type": "markdown",
   "id": "a6e7cc6a",
   "metadata": {},
   "source": [
    "### b.\tfloat\n",
    "Tiene como representación a los números reales. En Python solo basta con esta representación para los números con decimales, sea cual sea su tamaño.\n"
   ]
  },
  {
   "cell_type": "code",
   "execution_count": 13,
   "id": "3641764d",
   "metadata": {},
   "outputs": [
    {
     "name": "stdout",
     "output_type": "stream",
     "text": [
      "10.5\n"
     ]
    },
    {
     "data": {
      "text/plain": [
       "float"
      ]
     },
     "execution_count": 13,
     "metadata": {},
     "output_type": "execute_result"
    }
   ],
   "source": [
    "var_real = 10.5  # números decimales son los FLOTANTES\n",
    "print(var_real)\n",
    "# Funcion para saber el tipo de dato\n",
    "type(var_real)\n"
   ]
  },
  {
   "attachments": {},
   "cell_type": "markdown",
   "id": "14acc541",
   "metadata": {},
   "source": [
    "### c.\tcomplex\n",
    "Tiene como representación a los números complejos, aquellos que tienen una parte imaginaria. Esta es una característica que se destaca de Python, ya que no en todos los lenguajes de programación existe una representación de estos números.\n"
   ]
  },
  {
   "cell_type": "code",
   "execution_count": 6,
   "id": "02a2d127",
   "metadata": {},
   "outputs": [
    {
     "name": "stdout",
     "output_type": "stream",
     "text": [
      "(10.7+7.1j)\n",
      "(3+7j)\n",
      "(1-3j)\n",
      "(6+6j)\n",
      "(-8+12j)\n",
      "(1.5+1j)\n",
      "(4+2j)\n",
      "(2+7j)\n"
     ]
    }
   ],
   "source": [
    "var_complejo = 10.7 + 7.10j  #un flotante + un COMPLEJO\n",
    "print(var_complejo)\n",
    "# Funcion para saber el tipo de dato\n",
    "type(var_complejo)\n",
    "\n",
    "# SUMA\n",
    "comp01 = 2 + 2j\n",
    "comp02 = 1 + 5j\n",
    "print(comp01 + comp02)\n",
    "\n",
    "# resta\n",
    "print(comp01 - comp02)\n",
    "\n",
    "# Producto Escalar  es un número entero y un complejo\n",
    "print(3 * comp01)\n",
    "\n",
    "# Multiplicacion\n",
    "print(comp01 * comp02)\n",
    "\n",
    "# Division\n",
    "print(comp02 / comp01)\n",
    "\n",
    "# OTROS OPERANDOS\n",
    "print(2 + comp01)\n",
    "print(5j + comp01)\n"
   ]
  },
  {
   "attachments": {},
   "cell_type": "markdown",
   "id": "ceac91ea",
   "metadata": {},
   "source": [
    "### d.\tbool\n",
    "Tiene como representación a los tipos booleanos, es decir, que solo puede almacenar los valores True (verdadero) y False (falso). Son principalmente utilizados en condicionales y ciclos\n"
   ]
  },
  {
   "cell_type": "code",
   "execution_count": 19,
   "id": "540df420",
   "metadata": {},
   "outputs": [
    {
     "name": "stdout",
     "output_type": "stream",
     "text": [
      "False\n"
     ]
    },
    {
     "data": {
      "text/plain": [
       "bool"
      ]
     },
     "execution_count": 19,
     "metadata": {},
     "output_type": "execute_result"
    }
   ],
   "source": [
    "var_bool = bool(7 < 5)   #BULEANOS\n",
    "print(var_bool)\n",
    "# Funcion para saber el tipo de dato\n",
    "type(var_bool)\n",
    "\n",
    "\n"
   ]
  },
  {
   "attachments": {},
   "cell_type": "markdown",
   "id": "6849974e",
   "metadata": {},
   "source": [
    "##### Operadores lógicos:\n"
   ]
  },
  {
   "attachments": {},
   "cell_type": "markdown",
   "id": "9befcb41",
   "metadata": {},
   "source": [
    "- *and*:\n",
    "Este operador da como resultado True si y sólo si sus dos operandos son True:"
   ]
  },
  {
   "cell_type": "code",
   "execution_count": 9,
   "id": "2be21578",
   "metadata": {},
   "outputs": [
    {
     "name": "stdout",
     "output_type": "stream",
     "text": [
      "True\n",
      "False\n",
      "False\n",
      "False\n",
      "False\n"
     ]
    }
   ],
   "source": [
    "print(True and True)\n",
    "print(True and False)\n",
    "print(False and True)\n",
    "print(False and False)\n",
    "\n",
    "print(7<8 and 7<5)"
   ]
  },
  {
   "attachments": {},
   "cell_type": "markdown",
   "id": "626aece8",
   "metadata": {},
   "source": [
    "- *or*: \n",
    "Este operador da como resultado True si algún operando es True"
   ]
  },
  {
   "cell_type": "code",
   "execution_count": 21,
   "id": "39e8ad12",
   "metadata": {},
   "outputs": [
    {
     "name": "stdout",
     "output_type": "stream",
     "text": [
      "True\n",
      "True\n",
      "True\n",
      "False\n"
     ]
    }
   ],
   "source": [
    "print(True or True)\n",
    "print(True or False)\n",
    "print(False or True)\n",
    "print(False or False)"
   ]
  },
  {
   "attachments": {},
   "cell_type": "markdown",
   "id": "2282349d",
   "metadata": {},
   "source": [
    "- *not*: \n",
    "Este operador da como resultado True si y sólo si su argumento es False"
   ]
  },
  {
   "cell_type": "code",
   "execution_count": 22,
   "id": "1d4715e5",
   "metadata": {},
   "outputs": [
    {
     "name": "stdout",
     "output_type": "stream",
     "text": [
      "False\n",
      "True\n"
     ]
    }
   ],
   "source": [
    "print(not True)\n",
    "print(not False)"
   ]
  },
  {
   "attachments": {},
   "cell_type": "markdown",
   "id": "c06b283c",
   "metadata": {},
   "source": [
    "##### Expresiones compuestas:\n",
    "Python evalúa primero los *not*, luego los *and* y por último los *or*, como puede comprobarse en los ejemplos siguientes:"
   ]
  },
  {
   "attachments": {},
   "cell_type": "markdown",
   "id": "08cde35b",
   "metadata": {},
   "source": [
    "- El operador *not* se evalúa antes que el operador *and*:"
   ]
  },
  {
   "cell_type": "code",
   "execution_count": 25,
   "id": "bbda9965",
   "metadata": {},
   "outputs": [
    {
     "name": "stdout",
     "output_type": "stream",
     "text": [
      "False\n",
      "False\n",
      "True\n"
     ]
    }
   ],
   "source": [
    "print(not True and False)\n",
    "print((not True) and False)\n",
    "print(not (True and False))"
   ]
  },
  {
   "attachments": {},
   "cell_type": "markdown",
   "id": "6f85d0bb",
   "metadata": {},
   "source": [
    "- El operador *not* se evalúa antes que el operador *or*:"
   ]
  },
  {
   "cell_type": "code",
   "execution_count": 26,
   "id": "dd576a4a",
   "metadata": {},
   "outputs": [
    {
     "name": "stdout",
     "output_type": "stream",
     "text": [
      "False\n",
      "True\n",
      "False\n"
     ]
    }
   ],
   "source": [
    "#OJO: Buleanos empiezan com mayuscula y operadores todo minusculas, SIEMPRE\n",
    "print(not True or False)\n",
    "print((not False) or True)\n",
    "print(not (True or False))"
   ]
  },
  {
   "attachments": {},
   "cell_type": "markdown",
   "id": "c276bc94",
   "metadata": {},
   "source": [
    "- El operador *and* se evalúa antes que el operador *or*:"
   ]
  },
  {
   "cell_type": "code",
   "execution_count": 11,
   "id": "fbc33288",
   "metadata": {},
   "outputs": [
    {
     "name": "stdout",
     "output_type": "stream",
     "text": [
      "True\n"
     ]
    }
   ],
   "source": [
    "print (False and True or True)\n"
   ]
  },
  {
   "attachments": {},
   "cell_type": "markdown",
   "id": "50b874e2",
   "metadata": {},
   "source": [
    "##### Comparaciones:"
   ]
  },
  {
   "attachments": {},
   "cell_type": "markdown",
   "id": "dfefa0c8",
   "metadata": {},
   "source": [
    "- *>* Mayor que; *<* Menor que;"
   ]
  },
  {
   "cell_type": "code",
   "execution_count": 29,
   "id": "26947cd8",
   "metadata": {},
   "outputs": [
    {
     "name": "stdout",
     "output_type": "stream",
     "text": [
      "True\n",
      "False\n"
     ]
    }
   ],
   "source": [
    "print(3 > 2)\n",
    "print(3 < 2)"
   ]
  },
  {
   "attachments": {},
   "cell_type": "markdown",
   "id": "6dde773b",
   "metadata": {},
   "source": [
    "- *>=* Mayor o igual que; *<=* Menor o igual que;"
   ]
  },
  {
   "cell_type": "code",
   "execution_count": 30,
   "id": "ec055347",
   "metadata": {},
   "outputs": [
    {
     "name": "stdout",
     "output_type": "stream",
     "text": [
      "True\n",
      "False\n"
     ]
    }
   ],
   "source": [
    "print(2 >= 1 + 1) #primero oeraciones matematicas\n",
    "print(4 - 2 <= 1)"
   ]
  },
  {
   "attachments": {},
   "cell_type": "markdown",
   "id": "db8bb990",
   "metadata": {},
   "source": [
    "- *==* Igual que; *!=* Distinto de;"
   ]
  },
  {
   "cell_type": "code",
   "execution_count": 13,
   "id": "4cca0099",
   "metadata": {},
   "outputs": [
    {
     "name": "stdout",
     "output_type": "stream",
     "text": [
      "False\n",
      "True\n",
      "False\n",
      "True\n",
      "True\n"
     ]
    }
   ],
   "source": [
    "print(4 == 2 + 3)\n",
    "print(2 != 1 + 2)\n",
    "\n",
    "print(\"Hola\" == \"hola\")\n",
    "print(\"Hola\" != \"hola\")\n",
    "\n",
    "var01 = True   # asignacion un dato a una variable el =\n",
    "print(True == True)  # compara los datos el ==\n",
    "\n"
   ]
  },
  {
   "attachments": {},
   "cell_type": "markdown",
   "id": "ca882f13",
   "metadata": {},
   "source": [
    "### e.\tstring\n",
    "Tiene como representación a las cadenas de texto, para asignarlas deben estar entre comillas simples o dobles."
   ]
  },
  {
   "cell_type": "code",
   "execution_count": 1,
   "id": "81c4ed2b",
   "metadata": {},
   "outputs": [
    {
     "name": "stdout",
     "output_type": "stream",
     "text": [
      "Hola\n",
      "hola\n"
     ]
    },
    {
     "data": {
      "text/plain": [
       "str"
      ]
     },
     "execution_count": 1,
     "metadata": {},
     "output_type": "execute_result"
    }
   ],
   "source": [
    "cadena01 = \"Hola\"\n",
    "cadena02 = 'hola'\n",
    "\n",
    "print(cadena01)\n",
    "print(cadena02)\n",
    "\n",
    "type(cadena01)"
   ]
  },
  {
   "attachments": {},
   "cell_type": "markdown",
   "id": "20c86299",
   "metadata": {},
   "source": [
    "##### Metodos:"
   ]
  },
  {
   "attachments": {},
   "cell_type": "markdown",
   "id": "cf7c8099",
   "metadata": {},
   "source": [
    "- *capitalize()*: \n",
    "Convierte el primer carácter a mayúsculas"
   ]
  },
  {
   "cell_type": "code",
   "execution_count": 17,
   "id": "ba871b3d",
   "metadata": {},
   "outputs": [
    {
     "name": "stdout",
     "output_type": "stream",
     "text": [
      "hola, como estan todos.\n",
      "Hola, como estan todos.\n"
     ]
    }
   ],
   "source": [
    "cadena = \"hola, como estan todos.\"\n",
    "print(cadena)\n",
    "print(cadena.capitalize())"
   ]
  },
  {
   "attachments": {},
   "cell_type": "markdown",
   "id": "894a26d8",
   "metadata": {},
   "source": [
    "- *count()*: \n",
    "Devuelve el número de veces que aparece un valor especificado en una cadena\n"
   ]
  },
  {
   "cell_type": "code",
   "execution_count": 40,
   "id": "6445fe73",
   "metadata": {},
   "outputs": [
    {
     "name": "stdout",
     "output_type": "stream",
     "text": [
      "5\n",
      "23\n"
     ]
    }
   ],
   "source": [
    "cadena = \"hola, como estan todos.\"\n",
    "print(cadena.count(\"o\"))\n",
    "\n",
    "print(len(cadena))   # n° total de caracteres"
   ]
  },
  {
   "attachments": {},
   "cell_type": "markdown",
   "id": "35995407",
   "metadata": {},
   "source": [
    "- *find()*:\n",
    "Busca en la cadena un valor específico y devuelve la posición donde se encontró\n"
   ]
  },
  {
   "cell_type": "code",
   "execution_count": 8,
   "id": "2a12cfed",
   "metadata": {},
   "outputs": [
    {
     "name": "stdout",
     "output_type": "stream",
     "text": [
      "-1\n",
      "6\n"
     ]
    },
    {
     "data": {
      "text/plain": [
       "True"
      ]
     },
     "execution_count": 8,
     "metadata": {},
     "output_type": "execute_result"
    }
   ],
   "source": [
    "cadena = \"hola, como estan todos.\"\n",
    "print(cadena.find(\"x\"))  #si no esta presente te da -1\n",
    "print(cadena.find(\"c\"))\n",
    "cadena[6]==\"c\"\n",
    "# CADENA -> Compuesto por 6 caracteres\n",
    "# c -> posicion 0\n",
    "# A -> posicion 1\n",
    "# D -> posicion 2\n",
    "# E -> posicion 3\n",
    "# N -> posicion 4\n",
    "# A -> posicion 5\n"
   ]
  },
  {
   "attachments": {},
   "cell_type": "markdown",
   "id": "9420bb10",
   "metadata": {},
   "source": [
    "- *format()*:\n",
    "Formatea valores especificados en una cadena"
   ]
  },
  {
   "cell_type": "code",
   "execution_count": 3,
   "id": "7773c285",
   "metadata": {},
   "outputs": [
    {
     "name": "stdout",
     "output_type": "stream",
     "text": [
      "hola, Eduardo, tengo 30 años de edad.\n",
      "Hola Carlos, tengo 40 años de edad.\n"
     ]
    }
   ],
   "source": [
    "cadena = \"hola, {nombre}, tengo {edad} años de edad.\".format(nombre = \"Eduardo\", edad = 30)\n",
    "print(cadena)\n",
    "\n",
    "nombre02 = 'Carlos'\n",
    "edad02 = 40\n",
    "cadena = f\"Hola {nombre02}, tengo {edad02} años de edad.\"\n",
    "print(cadena)\n",
    "\n"
   ]
  },
  {
   "attachments": {},
   "cell_type": "markdown",
   "id": "0f631a8c",
   "metadata": {},
   "source": [
    "- *index()*:\n",
    "Busca en la cadena un valor específico y devuelve la posición donde se encontró\n"
   ]
  },
  {
   "cell_type": "code",
   "execution_count": 12,
   "id": "fde91ca3",
   "metadata": {},
   "outputs": [
    {
     "name": "stdout",
     "output_type": "stream",
     "text": [
      "6\n"
     ]
    },
    {
     "ename": "ValueError",
     "evalue": "substring not found",
     "output_type": "error",
     "traceback": [
      "\u001b[1;31m---------------------------------------------------------------------------\u001b[0m",
      "\u001b[1;31mValueError\u001b[0m                                Traceback (most recent call last)",
      "Cell \u001b[1;32mIn[12], line 3\u001b[0m\n\u001b[0;32m      1\u001b[0m cadena \u001b[39m=\u001b[39m \u001b[39m\"\u001b[39m\u001b[39mHola, esta es una cadena de texto\u001b[39m\u001b[39m\"\u001b[39m\n\u001b[0;32m      2\u001b[0m \u001b[39mprint\u001b[39m(cadena\u001b[39m.\u001b[39mindex(\u001b[39m\"\u001b[39m\u001b[39me\u001b[39m\u001b[39m\"\u001b[39m))\n\u001b[1;32m----> 3\u001b[0m \u001b[39mprint\u001b[39m(cadena\u001b[39m.\u001b[39;49mindex(\u001b[39m\"\u001b[39;49m\u001b[39mi\u001b[39;49m\u001b[39m\"\u001b[39;49m))\n",
      "\u001b[1;31mValueError\u001b[0m: substring not found"
     ]
    }
   ],
   "source": [
    "cadena = \"Hola, esta es una cadena de texto\"\n",
    "print(cadena.index(\"e\"))\n",
    "print(cadena.index(\"i\")) # si no lo encuentra nos sale error"
   ]
  },
  {
   "attachments": {},
   "cell_type": "markdown",
   "id": "0b16321d",
   "metadata": {},
   "source": [
    "- *isalnum()*:\n",
    "Devuelve True si todos los caracteres de la cadena son alfanuméricos\n"
   ]
  },
  {
   "cell_type": "code",
   "execution_count": 7,
   "id": "1a58405e",
   "metadata": {},
   "outputs": [
    {
     "name": "stdout",
     "output_type": "stream",
     "text": [
      "True\n",
      "False\n"
     ]
    }
   ],
   "source": [
    "cad_alnum = \"persona12\"\n",
    "print(cad_alnum.isalnum())\n",
    "\n",
    "cad_alnum2 = \"persona-12\"\n",
    "print(cad_alnum2.isalnum())\n",
    "\n",
    "### Nombrar variable\n",
    "# siempre minuscula\n",
    "# Manejar abreviados (que se entiendan y tambien que seas generales)\n",
    "# Manejar separadores como _ y no espacios\n",
    "\n",
    "### Regla Camel\n",
    "\n",
    "# Siempre comenzar con minusculas y para la siguiente separción utilizar la primera letra mayuscula \n",
    "# variable: Nombre Persona()\n",
    "# nom_Persona():\n",
    "\n",
    "### Utilización para funciones\n",
    "# validar_Nombre_Persona()\n",
    "# nombrePersona():\n",
    "\n",
    "#Nombres de funciones dentro de paquetes que instalamos de terceros siempre en minusculas\n",
    "\n",
    "# variables: Por lo general datos dinamicos (cambia de acuerdo a la necesidad)\n",
    "# constantes: Por lo general datos estáticos\n",
    "### MESES DEL AÑO (MESES_ANIO o M_ANIO) (son estaticos siempre en mayusculas)\n",
    "\n",
    "# nombrar una clase empieza con mayusculas Nombre_Clase()\n",
    "\n",
    "## str class int func white... (no se utilza en variables por ser reservadas)\n",
    "\n",
    "### OJO: NO SE DIFERENCIA MAYUSCULAS DE MINUSCULAS"
   ]
  },
  {
   "attachments": {},
   "cell_type": "markdown",
   "id": "8ceb2d08",
   "metadata": {},
   "source": [
    "- *isalpha()*:\n",
    "Devuelve True si todos los caracteres de la cadena están en el alfabeto\n"
   ]
  },
  {
   "cell_type": "code",
   "execution_count": 9,
   "id": "6d3797b0",
   "metadata": {},
   "outputs": [
    {
     "name": "stdout",
     "output_type": "stream",
     "text": [
      "True\n",
      "False\n"
     ]
    }
   ],
   "source": [
    "cad_alpha = \"Persona\"\n",
    "print(cad_alpha.isalpha())\n",
    "\n",
    "cad_alphaa = \"Persona3\"\n",
    "print(cad_alphaa.isalpha())"
   ]
  },
  {
   "attachments": {},
   "cell_type": "markdown",
   "id": "d3d226a0",
   "metadata": {},
   "source": [
    "- *isnumeric()*:\n",
    "Devuelve True si todos los caracteres de la cadena son numéricos\n",
    "\n"
   ]
  },
  {
   "cell_type": "code",
   "execution_count": 11,
   "id": "4d934d50",
   "metadata": {},
   "outputs": [
    {
     "name": "stdout",
     "output_type": "stream",
     "text": [
      "True\n",
      "False\n"
     ]
    }
   ],
   "source": [
    "cad_num = '50'\n",
    "print(cad_num.isnumeric())\n",
    "\n",
    "cad_num1 = '50.7'\n",
    "print(cad_num1.isnumeric())"
   ]
  },
  {
   "attachments": {},
   "cell_type": "markdown",
   "id": "f02436df",
   "metadata": {},
   "source": [
    "- *lower()*:\n",
    "Convierte una cadena en minúsculas"
   ]
  },
  {
   "cell_type": "code",
   "execution_count": 12,
   "id": "4ffc8a86",
   "metadata": {},
   "outputs": [
    {
     "name": "stdout",
     "output_type": "stream",
     "text": [
      "el volar de las aves\n"
     ]
    }
   ],
   "source": [
    "cad_titulo =\"El Volar de las Aves\"\n",
    "print(cad_titulo.lower())"
   ]
  },
  {
   "attachments": {},
   "cell_type": "markdown",
   "id": "06c0bc15",
   "metadata": {},
   "source": [
    "- *replace()*:\n",
    "Devuelve una cadena donde un valor especificado se reemplaza con un valor especificado"
   ]
  },
  {
   "cell_type": "code",
   "execution_count": 13,
   "id": "149dc07b",
   "metadata": {},
   "outputs": [
    {
     "name": "stdout",
     "output_type": "stream",
     "text": [
      "El Volar de los Ganzos\n"
     ]
    }
   ],
   "source": [
    "cad_titulo = \"El Volar de las Aves\"\n",
    "print(cad_titulo.replace(\"las Aves\", \"los Ganzos\"))"
   ]
  },
  {
   "attachments": {},
   "cell_type": "markdown",
   "id": "484d5152",
   "metadata": {},
   "source": [
    "- *split()*:\n",
    "Divide la cadena en el separador especificado y devuelve una lista\n"
   ]
  },
  {
   "cell_type": "code",
   "execution_count": 15,
   "id": "136d54d0",
   "metadata": {},
   "outputs": [
    {
     "name": "stdout",
     "output_type": "stream",
     "text": [
      "['El', 'Volar', 'de', 'las', 'Aves']\n",
      "['El Volar ', ' las Aves']\n",
      "['El Volar ', 'las Aves']\n"
     ]
    }
   ],
   "source": [
    "cad_titulo =  \"El Volar de las Aves\"\n",
    "print(cad_titulo.split(' '))  # los espacios\n",
    "print(cad_titulo.split('de'))\n",
    "print(cad_titulo.split('de '))"
   ]
  },
  {
   "attachments": {},
   "cell_type": "markdown",
   "id": "62d5c3e4",
   "metadata": {},
   "source": [
    "- *title()*:\n",
    "Convierte el primer carácter de cada palabra a mayúsculas\n"
   ]
  },
  {
   "cell_type": "code",
   "execution_count": 18,
   "id": "c79d69c9",
   "metadata": {},
   "outputs": [
    {
     "name": "stdout",
     "output_type": "stream",
     "text": [
      "El Volar De Las Aves\n"
     ]
    }
   ],
   "source": [
    "cad_titulo =  \"el volar de las aves\"\n",
    "print(cad_titulo.title())"
   ]
  },
  {
   "attachments": {},
   "cell_type": "markdown",
   "id": "e4a5c692",
   "metadata": {},
   "source": [
    "- *upper()*:\n",
    "Convierte una cadena en mayúsculas\n"
   ]
  },
  {
   "cell_type": "code",
   "execution_count": 19,
   "id": "22721df4",
   "metadata": {},
   "outputs": [
    {
     "name": "stdout",
     "output_type": "stream",
     "text": [
      "EL VOLAR DE LAS AVES\n"
     ]
    }
   ],
   "source": [
    "cad_titulo =  \"el volar de las aves\"\n",
    "print(cad_titulo.upper())"
   ]
  },
  {
   "attachments": {},
   "cell_type": "markdown",
   "id": "eb439826",
   "metadata": {},
   "source": [
    "### f.\ttuple\n",
    "Tiene como representación a una colección ordenada de elementos. Las tuplas se representan escribiendo los elementos entre paréntesis y separados por comas."
   ]
  },
  {
   "cell_type": "code",
   "execution_count": 7,
   "id": "bba9df13",
   "metadata": {},
   "outputs": [
    {
     "name": "stdout",
     "output_type": "stream",
     "text": [
      "10.55\n",
      "(28,)\n"
     ]
    },
    {
     "data": {
      "text/plain": [
       "tuple"
      ]
     },
     "execution_count": 7,
     "metadata": {},
     "output_type": "execute_result"
    }
   ],
   "source": [
    "# Cuando usar tuplas\n",
    "# Las tuplas son una excelente opción si lo que quieres es que los datos de tu colección sean de solo lectura, que nunca cambien y se mantengan constantes. Tienen la capacidad de garantizar que los datos que contienen nunnca serán alterados.\n",
    "\n",
    "#Las tuplas pueden utilizarse como claves en un diccionario siempre que contengan tipos inmutables (cadenas, números u otras tuplas). Una lista, al ser mutable, no puede utilizarse para este fin.\n",
    "\n",
    "var_tupla = (\"texto\", 10, 10.55, True) # no se puede modificar ningun elemento por ser inmutable\n",
    "print(var_tupla[2])\n",
    "\n",
    "\n",
    "var_tupla01 = (28,) # si solo hay un elemento en la tupla se pone al final , OJO\n",
    "print(var_tupla01)\n",
    "type(var_tupla01)"
   ]
  },
  {
   "attachments": {},
   "cell_type": "markdown",
   "id": "b62a186d",
   "metadata": {},
   "source": [
    "##### Metodos:"
   ]
  },
  {
   "attachments": {},
   "cell_type": "markdown",
   "id": "68426af0",
   "metadata": {},
   "source": [
    "- *count*: \n",
    "Devuelve el número de veces que aparece un valor especificado en una tupla"
   ]
  },
  {
   "cell_type": "code",
   "execution_count": 23,
   "id": "9788b5cf",
   "metadata": {},
   "outputs": [
    {
     "name": "stdout",
     "output_type": "stream",
     "text": [
      "2\n"
     ]
    }
   ],
   "source": [
    "var_tupla = (1,2,3,4,5,6,7,5)\n",
    "print(var_tupla.count(5))"
   ]
  },
  {
   "attachments": {},
   "cell_type": "markdown",
   "id": "b6c5e644",
   "metadata": {},
   "source": [
    "- *index*: \n",
    "Busca en la tupla un valor específico y devuelve la posición donde se encontró"
   ]
  },
  {
   "cell_type": "code",
   "execution_count": 19,
   "id": "38a1a726",
   "metadata": {},
   "outputs": [
    {
     "name": "stdout",
     "output_type": "stream",
     "text": [
      "4\n",
      "('es', 'en')\n"
     ]
    }
   ],
   "source": [
    "var_tupla = (1,2,3,4,5,6,7,5)\n",
    "print(var_tupla.index(5))\n",
    "\n",
    "print(tuple({'es': 'Enero', 'en': 'January'}))  #diccionario dentro de tupla"
   ]
  },
  {
   "cell_type": "markdown",
   "id": "c267c969",
   "metadata": {},
   "source": [
    "### g.\tfrozenset\n",
    "Tiene como representación a un conjunto inmutable, es un conjunto que no puede ser modificado después de haberlo creado.\n"
   ]
  },
  {
   "cell_type": "code",
   "execution_count": 2,
   "id": "d2c025f8",
   "metadata": {},
   "outputs": [
    {
     "name": "stdout",
     "output_type": "stream",
     "text": [
      "frozenset({1, 2, 3, 4})\n"
     ]
    },
    {
     "data": {
      "text/plain": [
       "frozenset"
      ]
     },
     "execution_count": 2,
     "metadata": {},
     "output_type": "execute_result"
    }
   ],
   "source": [
    "conjunto_estatico = frozenset([1,2,3,4])\n",
    "print(conjunto_estatico)\n",
    "type(conjunto_estatico)"
   ]
  },
  {
   "attachments": {},
   "cell_type": "markdown",
   "id": "39fa83ee",
   "metadata": {},
   "source": [
    "PRACTICANDO"
   ]
  },
  {
   "cell_type": "code",
   "execution_count": 9,
   "id": "1698d5d4",
   "metadata": {},
   "outputs": [
    {
     "name": "stdout",
     "output_type": "stream",
     "text": [
      "html\n",
      "javascript\n",
      "css\n"
     ]
    }
   ],
   "source": [
    "# Esos valores puede ser 'desempaquetados' y asignados a variables individuales.\n",
    "\n",
    "front_end = (\"html\",\"css\",\"javascript\") \n",
    "\n",
    "contenido,estilismo,interactividad = front_end\n",
    "\n",
    "print(contenido)\n",
    "print(estilismo)\n",
    "print(interactividad)\n",
    "\n",
    "# Hay que asegurarse de que el número de variables que creas es exactamente el mismo que la cantidad de valores de la tupla/lista, de otro modo Python lanzará un error:\n",
    "\n"
   ]
  },
  {
   "cell_type": "code",
   "execution_count": 2,
   "id": "69c63de2",
   "metadata": {},
   "outputs": [
    {
     "name": "stdout",
     "output_type": "stream",
     "text": [
      "Python\n"
     ]
    }
   ],
   "source": [
    "# El otro es el método .pop().\n",
    "\n",
    "lenguaje_de_programacion = [\"Python\", \"JavaScript\", \"Java\", \"C\"]\n",
    "\n",
    "language_favorito = lenguaje_de_programacion.pop(0)\n",
    "print(language_favorito)"
   ]
  },
  {
   "cell_type": "markdown",
   "id": "e354cdb3",
   "metadata": {},
   "source": []
  },
  {
   "cell_type": "code",
   "execution_count": null,
   "id": "0c98b135",
   "metadata": {},
   "outputs": [],
   "source": []
  }
 ],
 "metadata": {
  "kernelspec": {
   "display_name": "Python 3",
   "language": "python",
   "name": "python3"
  },
  "language_info": {
   "codemirror_mode": {
    "name": "ipython",
    "version": 3
   },
   "file_extension": ".py",
   "mimetype": "text/x-python",
   "name": "python",
   "nbconvert_exporter": "python",
   "pygments_lexer": "ipython3",
   "version": "3.11.2"
  },
  "vscode": {
   "interpreter": {
    "hash": "c261aea317cc0286b3b3261fbba9abdec21eaa57589985bb7a274bf54d6cc0a7"
   }
  }
 },
 "nbformat": 4,
 "nbformat_minor": 5
}
