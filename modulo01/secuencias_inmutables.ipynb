{
 "cells": [
  {
   "attachments": {},
   "cell_type": "markdown",
   "id": "d7f2569c",
   "metadata": {},
   "source": [
    "# Secuencias inmutables\n",
    "- No es posible cambiar, modificar o actualizar el contenido a un tipo de dato inmutable, aunque como en cualquier variable sí es posible asignarle un nuevo valor."
   ]
  },
  {
   "cell_type": "code",
   "execution_count": 3,
   "id": "7fc9b6b0",
   "metadata": {},
   "outputs": [
    {
     "name": "stdout",
     "output_type": "stream",
     "text": [
      "Hola mundo...\n"
     ]
    }
   ],
   "source": [
    "variable = \"Hola mundo...\"\n",
    "print(variable)"
   ]
  },
  {
   "attachments": {},
   "cell_type": "markdown",
   "id": "f3e575ea",
   "metadata": {},
   "source": [
    "- Si se quiere cambiar la letra m y sustituirla por M, no es posible con este tipo de dato, lo que se puede hacer es asignar la nueva cadena a esa misma variable."
   ]
  },
  {
   "cell_type": "code",
   "execution_count": 5,
   "id": "fe9136bd",
   "metadata": {},
   "outputs": [
    {
     "name": "stdout",
     "output_type": "stream",
     "text": [
      "Hola mundo...\n",
      "Este es otro texto\n"
     ]
    }
   ],
   "source": [
    "print(variable)\n",
    "variable = \"Este es otro texto\"\n",
    "print(variable)"
   ]
  },
  {
   "attachments": {},
   "cell_type": "markdown",
   "id": "8a0f504b",
   "metadata": {},
   "source": [
    "- Pero no podemos iterar carácter por carácter para cambiar una parte o segmento de la cadena. Es precisamente esta la diferencia entre los tipos de datos inmutables y mutables."
   ]
  },
  {
   "cell_type": "code",
   "execution_count": 6,
   "id": "81798f93",
   "metadata": {},
   "outputs": [
    {
     "name": "stdout",
     "output_type": "stream",
     "text": [
      "Hola mundo\n",
      "m\n"
     ]
    }
   ],
   "source": [
    "cadena = \"Hola mundo\"\n",
    "print(cadena)\n",
    "print(cadena[5])\n"
   ]
  },
  {
   "attachments": {},
   "cell_type": "markdown",
   "id": "ecbbfa2a",
   "metadata": {},
   "source": [
    "## Tipos de datos inmutables"
   ]
  },
  {
   "attachments": {},
   "cell_type": "markdown",
   "id": "f075af9f",
   "metadata": {},
   "source": [
    "### a.\tint\n",
    "Tiene como representación a los números enteros positivos y negativos"
   ]
  },
  {
   "cell_type": "code",
   "execution_count": 12,
   "id": "729b2b49",
   "metadata": {},
   "outputs": [
    {
     "name": "stdout",
     "output_type": "stream",
     "text": [
      "10\n",
      "-5\n",
      "El resultado de la suma es: 5\n",
      "El resultado de la resta es: 15\n",
      "El resultado de la multiplicacion es: -50\n",
      "El resultado de la division es: -2.0\n",
      "El resto de la division es: -2\n",
      "El residuo de la division es: 0\n",
      "El resultado de la operación es: 0\n",
      "El resultado de la potencia es: 100\n",
      "El resultado de la raiz es: 10.0\n"
     ]
    }
   ],
   "source": [
    "# Numero positivos y negativos\n",
    "var_a = 10\n",
    "var_b = -5\n",
    "\n",
    "print(var_a)\n",
    "print(var_b)\n",
    "\n",
    "# Funcion para saber el tipo de dato\n",
    "# type(var_a)\n",
    "# type(var_b)\n",
    "\n",
    "# Operaciones Matematicas\n",
    "print (\"El resultado de la suma es:\", var_a + var_b)\n",
    "print (\"El resultado de la resta es:\", var_a - var_b)\n",
    "print (\"El resultado de la multiplicacion es:\", var_a * var_b)\n",
    "print (\"El resultado de la division es:\", var_a / var_b)\n",
    "print (\"El resto de la division entera es:\", var_a // var_b)\n",
    "print (\"El residuo de la division es:\", var_a % var_b)\n",
    "print (\"El resultado de la operación es:\", (var_a + var_b) - var_b + (var_b * 2))\n",
    "print (\"El resultado de la potencia es:\", var_a ** 2)\n",
    "print (\"El resultado de la raiz es:\", 100 ** (1/2))\n"
   ]
  },
  {
   "attachments": {},
   "cell_type": "markdown",
   "id": "a6e7cc6a",
   "metadata": {},
   "source": [
    "### b.\tfloat\n",
    "Tiene como representación a los números reales. En Python solo basta con esta representación para los números con decimales, sea cual sea su tamaño.\n"
   ]
  },
  {
   "cell_type": "code",
   "execution_count": 13,
   "id": "3641764d",
   "metadata": {},
   "outputs": [
    {
     "name": "stdout",
     "output_type": "stream",
     "text": [
      "10.5\n"
     ]
    },
    {
     "data": {
      "text/plain": [
       "float"
      ]
     },
     "execution_count": 13,
     "metadata": {},
     "output_type": "execute_result"
    }
   ],
   "source": [
    "var_real = 10.5\n",
    "print(var_real)\n",
    "# Funcion para saber el tipo de dato\n",
    "type(var_real)\n"
   ]
  },
  {
   "attachments": {},
   "cell_type": "markdown",
   "id": "14acc541",
   "metadata": {},
   "source": [
    "### c.\tcomplex\n",
    "Tiene como representación a los números complejos, aquellos que tienen una parte imaginaria. Esta es una característica que se destaca de Python, ya que no en todos los lenguajes de programación existe una representación de estos números.\n"
   ]
  },
  {
   "cell_type": "code",
   "execution_count": 16,
   "id": "02a2d127",
   "metadata": {},
   "outputs": [
    {
     "name": "stdout",
     "output_type": "stream",
     "text": [
      "(10.7+7.1j)\n",
      "(4+7j)\n",
      "-3j\n",
      "(6+6j)\n",
      "(-6+14j)\n",
      "(1.75+0.75j)\n",
      "(4+2j)\n"
     ]
    }
   ],
   "source": [
    "var_complejo = 10.7 + 7.10j\n",
    "print(var_complejo)\n",
    "# Funcion para saber el tipo de dato\n",
    "type(var_complejo)\n",
    "\n",
    "# SUMA\n",
    "comp01 = 2 + 2j\n",
    "comp02 = 2 + 5j\n",
    "print(comp01 + comp02)\n",
    "\n",
    "# resta\n",
    "print(comp01 - comp02)\n",
    "\n",
    "# Producto Escalar\n",
    "print(3 * comp01)\n",
    "\n",
    "# Multiplicacion\n",
    "print(comp01 * comp02)\n",
    "\n",
    "# Division\n",
    "print(comp02 / comp01)\n",
    "\n",
    "# OTROS OPERANDOS\n",
    "print(2 + comp01)\n"
   ]
  },
  {
   "attachments": {},
   "cell_type": "markdown",
   "id": "ceac91ea",
   "metadata": {},
   "source": [
    "### d.\tbool\n",
    "Tiene como representación a los tipos booleanos, es decir, que solo puede almacenar los valores True (verdadero) y False (falso). Son principalmente utilizados en condicionales y ciclos\n"
   ]
  },
  {
   "cell_type": "code",
   "execution_count": 19,
   "id": "540df420",
   "metadata": {},
   "outputs": [
    {
     "name": "stdout",
     "output_type": "stream",
     "text": [
      "False\n"
     ]
    },
    {
     "data": {
      "text/plain": [
       "bool"
      ]
     },
     "execution_count": 19,
     "metadata": {},
     "output_type": "execute_result"
    }
   ],
   "source": [
    "var_bool = bool(7 < 5)\n",
    "print(var_bool)\n",
    "# Funcion para saber el tipo de dato\n",
    "type(var_bool)\n",
    "\n",
    "\n"
   ]
  },
  {
   "attachments": {},
   "cell_type": "markdown",
   "id": "6849974e",
   "metadata": {},
   "source": [
    "##### Operadores lógicos:\n"
   ]
  },
  {
   "attachments": {},
   "cell_type": "markdown",
   "id": "9befcb41",
   "metadata": {},
   "source": [
    "- *and*:\n",
    "Este operador da como resultado True si y sólo si sus dos operandos son True:"
   ]
  },
  {
   "cell_type": "code",
   "execution_count": 20,
   "id": "2be21578",
   "metadata": {},
   "outputs": [
    {
     "name": "stdout",
     "output_type": "stream",
     "text": [
      "True\n",
      "False\n",
      "False\n",
      "False\n"
     ]
    }
   ],
   "source": [
    "print(True and True)\n",
    "print(True and False)\n",
    "print(False and True)\n",
    "print(False and False)"
   ]
  },
  {
   "attachments": {},
   "cell_type": "markdown",
   "id": "626aece8",
   "metadata": {},
   "source": [
    "- *or*: \n",
    "Este operador da como resultado True si algún operando es True"
   ]
  },
  {
   "cell_type": "code",
   "execution_count": 21,
   "id": "39e8ad12",
   "metadata": {},
   "outputs": [
    {
     "name": "stdout",
     "output_type": "stream",
     "text": [
      "True\n",
      "True\n",
      "True\n",
      "False\n"
     ]
    }
   ],
   "source": [
    "print(True or True)\n",
    "print(True or False)\n",
    "print(False or True)\n",
    "print(False or False)"
   ]
  },
  {
   "attachments": {},
   "cell_type": "markdown",
   "id": "2282349d",
   "metadata": {},
   "source": [
    "- *not*: \n",
    "Este operador da como resultado True si y sólo si su argumento es False"
   ]
  },
  {
   "cell_type": "code",
   "execution_count": 22,
   "id": "1d4715e5",
   "metadata": {},
   "outputs": [
    {
     "name": "stdout",
     "output_type": "stream",
     "text": [
      "False\n",
      "True\n"
     ]
    }
   ],
   "source": [
    "print(not True)\n",
    "print(not False)"
   ]
  },
  {
   "attachments": {},
   "cell_type": "markdown",
   "id": "c06b283c",
   "metadata": {},
   "source": [
    "##### Expresiones compuestas:\n",
    "Python evalúa primero los *not*, luego los *and* y por último los *or*, como puede comprobarse en los ejemplos siguientes:"
   ]
  },
  {
   "attachments": {},
   "cell_type": "markdown",
   "id": "08cde35b",
   "metadata": {},
   "source": [
    "- El operador *not* se evalúa antes que el operador *and*:"
   ]
  },
  {
   "cell_type": "code",
   "execution_count": 25,
   "id": "bbda9965",
   "metadata": {},
   "outputs": [
    {
     "name": "stdout",
     "output_type": "stream",
     "text": [
      "False\n",
      "False\n",
      "True\n"
     ]
    }
   ],
   "source": [
    "print(not True and False)\n",
    "print((not True) and False)\n",
    "print(not (True and False))"
   ]
  },
  {
   "attachments": {},
   "cell_type": "markdown",
   "id": "6f85d0bb",
   "metadata": {},
   "source": [
    "- El operador *not* se evalúa antes que el operador *or*:"
   ]
  },
  {
   "cell_type": "code",
   "execution_count": 26,
   "id": "dd576a4a",
   "metadata": {},
   "outputs": [
    {
     "name": "stdout",
     "output_type": "stream",
     "text": [
      "False\n",
      "True\n",
      "False\n"
     ]
    }
   ],
   "source": [
    "print(not True or False)\n",
    "print((not False) or True)\n",
    "print(not (True or False))"
   ]
  },
  {
   "attachments": {},
   "cell_type": "markdown",
   "id": "c276bc94",
   "metadata": {},
   "source": [
    "- El operador *and* se evalúa antes que el operador *or*:"
   ]
  },
  {
   "cell_type": "code",
   "execution_count": 27,
   "id": "fbc33288",
   "metadata": {},
   "outputs": [
    {
     "name": "stdout",
     "output_type": "stream",
     "text": [
      "True\n"
     ]
    }
   ],
   "source": [
    "print (False and True or True)"
   ]
  },
  {
   "attachments": {},
   "cell_type": "markdown",
   "id": "50b874e2",
   "metadata": {},
   "source": [
    "##### Comparaciones:"
   ]
  },
  {
   "attachments": {},
   "cell_type": "markdown",
   "id": "dfefa0c8",
   "metadata": {},
   "source": [
    "- *>* Mayor que; *<* Menor que;"
   ]
  },
  {
   "cell_type": "code",
   "execution_count": 29,
   "id": "26947cd8",
   "metadata": {},
   "outputs": [
    {
     "name": "stdout",
     "output_type": "stream",
     "text": [
      "True\n",
      "False\n"
     ]
    }
   ],
   "source": [
    "print(3 > 2)\n",
    "print(3 < 2)"
   ]
  },
  {
   "attachments": {},
   "cell_type": "markdown",
   "id": "6dde773b",
   "metadata": {},
   "source": [
    "- *>=* Mayor o igual que; *<=* Menor o igual que;"
   ]
  },
  {
   "cell_type": "code",
   "execution_count": 30,
   "id": "ec055347",
   "metadata": {},
   "outputs": [
    {
     "name": "stdout",
     "output_type": "stream",
     "text": [
      "True\n",
      "False\n"
     ]
    }
   ],
   "source": [
    "print(2 >= 1 + 1)\n",
    "print(4 - 2 <= 1)"
   ]
  },
  {
   "attachments": {},
   "cell_type": "markdown",
   "id": "db8bb990",
   "metadata": {},
   "source": [
    "- *==* Igual que; *!=* Distinto de;"
   ]
  },
  {
   "cell_type": "code",
   "execution_count": 31,
   "id": "4cca0099",
   "metadata": {},
   "outputs": [
    {
     "name": "stdout",
     "output_type": "stream",
     "text": [
      "False\n",
      "True\n"
     ]
    }
   ],
   "source": [
    "print(4 == 2 + 3)\n",
    "print(2 != 1 + 2)\n",
    "\n",
    "print(\"Hola\" == \"hola\")\n",
    "print(\"Hola\" != \"hola\")\n",
    "\n",
    "var01 = True # asignacion\n",
    "\n"
   ]
  },
  {
   "attachments": {},
   "cell_type": "markdown",
   "id": "ca882f13",
   "metadata": {},
   "source": [
    "### e.\tstring\n",
    "Tiene como representación a las cadenas de texto, para asignarlas deben estar entre comillas simples o dobles."
   ]
  },
  {
   "cell_type": "code",
   "execution_count": 32,
   "id": "81c4ed2b",
   "metadata": {},
   "outputs": [
    {
     "name": "stdout",
     "output_type": "stream",
     "text": [
      "Hola\n"
     ]
    },
    {
     "data": {
      "text/plain": [
       "str"
      ]
     },
     "execution_count": 32,
     "metadata": {},
     "output_type": "execute_result"
    }
   ],
   "source": [
    "cadena01 = \"Hola\"\n",
    "print(cadena01)\n",
    "\n",
    "type(cadena01)"
   ]
  },
  {
   "attachments": {},
   "cell_type": "markdown",
   "id": "20c86299",
   "metadata": {},
   "source": [
    "##### Metodos:"
   ]
  },
  {
   "attachments": {},
   "cell_type": "markdown",
   "id": "cf7c8099",
   "metadata": {},
   "source": [
    "- *capitalize()*: \n",
    "Convierte el primer carácter a mayúsculas"
   ]
  },
  {
   "cell_type": "code",
   "execution_count": 33,
   "id": "ba871b3d",
   "metadata": {},
   "outputs": [
    {
     "name": "stdout",
     "output_type": "stream",
     "text": [
      "hola, como estan todos.\n",
      "Hola, como estan todos.\n"
     ]
    }
   ],
   "source": [
    "cadena = \"hola, como estan todos.\"\n",
    "print(cadena)\n",
    "print(cadena.capitalize())"
   ]
  },
  {
   "attachments": {},
   "cell_type": "markdown",
   "id": "894a26d8",
   "metadata": {},
   "source": [
    "- *count()*: \n",
    "Devuelve el número de veces que aparece un valor especificado en una cadena\n"
   ]
  },
  {
   "cell_type": "code",
   "execution_count": 40,
   "id": "6445fe73",
   "metadata": {},
   "outputs": [
    {
     "name": "stdout",
     "output_type": "stream",
     "text": [
      "5\n",
      "23\n"
     ]
    }
   ],
   "source": [
    "cadena = \"hola, como estan todos.\"\n",
    "print(cadena.count(\"o\"))\n",
    "\n",
    "print(len(cadena))"
   ]
  },
  {
   "attachments": {},
   "cell_type": "markdown",
   "id": "35995407",
   "metadata": {},
   "source": [
    "- *find()*:\n",
    "Busca en la cadena un valor específico y devuelve la posición donde se encontró\n"
   ]
  },
  {
   "cell_type": "code",
   "execution_count": 35,
   "id": "2a12cfed",
   "metadata": {},
   "outputs": [
    {
     "name": "stdout",
     "output_type": "stream",
     "text": [
      "6\n"
     ]
    }
   ],
   "source": [
    "cadena = \"hola, como estan todos.\"\n",
    "print(cadena.find(\"como\"))\n",
    "\n",
    "# CADENA -> Compuesto por 6 caracteres\n",
    "# c -> posicion 0\n",
    "# A -> posicion 1\n",
    "# D -> posicion 2\n",
    "# E -> posicion 3\n",
    "# N -> posicion 4\n",
    "# A -> posicion 5\n"
   ]
  },
  {
   "attachments": {},
   "cell_type": "markdown",
   "id": "9420bb10",
   "metadata": {},
   "source": [
    "- *format()*:\n",
    "Formatea valores especificados en una cadena"
   ]
  },
  {
   "cell_type": "code",
   "execution_count": 39,
   "id": "7773c285",
   "metadata": {},
   "outputs": [
    {
     "name": "stdout",
     "output_type": "stream",
     "text": [
      "hola, Eduardo, tengo 30 años de edad.\n",
      "Hola Carlos, tengo 40 años de edad.\n"
     ]
    }
   ],
   "source": [
    "cadena = \"hola, {nombre}, tengo {edad} años de edad.\".format(nombre = \"Eduardo\", edad = 30)\n",
    "print(cadena)\n",
    "\n",
    "nombre02 = 'Carlos'\n",
    "edad02 = 40\n",
    "cadena = f\"Hola {nombre02}, tengo {edad02} años de edad.\"\n",
    "print(cadena)\n",
    "\n"
   ]
  },
  {
   "attachments": {},
   "cell_type": "markdown",
   "id": "0f631a8c",
   "metadata": {},
   "source": [
    "- *index()*:\n",
    "Busca en la cadena un valor específico y devuelve la posición donde se encontró\n"
   ]
  },
  {
   "cell_type": "code",
   "execution_count": null,
   "id": "fde91ca3",
   "metadata": {},
   "outputs": [],
   "source": []
  },
  {
   "attachments": {},
   "cell_type": "markdown",
   "id": "0b16321d",
   "metadata": {},
   "source": [
    "- *isalnum()*:\n",
    "Devuelve True si todos los caracteres de la cadena son alfanuméricos\n"
   ]
  },
  {
   "cell_type": "code",
   "execution_count": null,
   "id": "1a58405e",
   "metadata": {},
   "outputs": [],
   "source": []
  },
  {
   "attachments": {},
   "cell_type": "markdown",
   "id": "8ceb2d08",
   "metadata": {},
   "source": [
    "- *isalpha()*:\n",
    "Devuelve True si todos los caracteres de la cadena están en el alfabeto\n"
   ]
  },
  {
   "cell_type": "code",
   "execution_count": null,
   "id": "6d3797b0",
   "metadata": {},
   "outputs": [],
   "source": []
  },
  {
   "attachments": {},
   "cell_type": "markdown",
   "id": "d3d226a0",
   "metadata": {},
   "source": [
    "- *isnumeric()*:\n",
    "Devuelve True si todos los caracteres de la cadena son numéricos\n",
    "\n"
   ]
  },
  {
   "cell_type": "code",
   "execution_count": null,
   "id": "4d934d50",
   "metadata": {},
   "outputs": [],
   "source": []
  },
  {
   "attachments": {},
   "cell_type": "markdown",
   "id": "f02436df",
   "metadata": {},
   "source": [
    "- *lower()*:\n",
    "Convierte una cadena en minúsculas"
   ]
  },
  {
   "cell_type": "code",
   "execution_count": null,
   "id": "4ffc8a86",
   "metadata": {},
   "outputs": [],
   "source": []
  },
  {
   "attachments": {},
   "cell_type": "markdown",
   "id": "06c0bc15",
   "metadata": {},
   "source": [
    "- *replace()*:\n",
    "Devuelve una cadena donde un valor especificado se reemplaza con un valor especificado"
   ]
  },
  {
   "cell_type": "code",
   "execution_count": null,
   "id": "149dc07b",
   "metadata": {},
   "outputs": [],
   "source": []
  },
  {
   "attachments": {},
   "cell_type": "markdown",
   "id": "484d5152",
   "metadata": {},
   "source": [
    "- *split()*:\n",
    "Divide la cadena en el separador especificado y devuelve una lista\n"
   ]
  },
  {
   "cell_type": "code",
   "execution_count": null,
   "id": "136d54d0",
   "metadata": {},
   "outputs": [],
   "source": []
  },
  {
   "attachments": {},
   "cell_type": "markdown",
   "id": "62d5c3e4",
   "metadata": {},
   "source": [
    "- *title()*:\n",
    "Convierte el primer carácter de cada palabra a mayúsculas\n"
   ]
  },
  {
   "cell_type": "code",
   "execution_count": null,
   "id": "c79d69c9",
   "metadata": {},
   "outputs": [],
   "source": []
  },
  {
   "attachments": {},
   "cell_type": "markdown",
   "id": "e4a5c692",
   "metadata": {},
   "source": [
    "- *upper()*:\n",
    "Convierte una cadena en mayúsculas\n"
   ]
  },
  {
   "cell_type": "code",
   "execution_count": null,
   "id": "22721df4",
   "metadata": {},
   "outputs": [],
   "source": []
  },
  {
   "attachments": {},
   "cell_type": "markdown",
   "id": "eb439826",
   "metadata": {},
   "source": [
    "### f.\ttuple\n",
    "Tiene como representación a una colección ordenada de elementos. Las tuplas se representan escribiendo los elementos entre paréntesis y separados por comas."
   ]
  },
  {
   "cell_type": "code",
   "execution_count": null,
   "id": "bba9df13",
   "metadata": {},
   "outputs": [],
   "source": []
  },
  {
   "attachments": {},
   "cell_type": "markdown",
   "id": "b62a186d",
   "metadata": {},
   "source": [
    "##### Metodos:"
   ]
  },
  {
   "attachments": {},
   "cell_type": "markdown",
   "id": "68426af0",
   "metadata": {},
   "source": [
    "- *count*: \n",
    "Devuelve el número de veces que aparece un valor especificado en una tupla"
   ]
  },
  {
   "cell_type": "code",
   "execution_count": null,
   "id": "9788b5cf",
   "metadata": {},
   "outputs": [],
   "source": []
  },
  {
   "attachments": {},
   "cell_type": "markdown",
   "id": "b6c5e644",
   "metadata": {},
   "source": [
    "- *index*: \n",
    "Busca en la tupla un valor específico y devuelve la posición donde se encontró"
   ]
  },
  {
   "cell_type": "code",
   "execution_count": null,
   "id": "38a1a726",
   "metadata": {},
   "outputs": [],
   "source": []
  },
  {
   "cell_type": "markdown",
   "id": "c267c969",
   "metadata": {},
   "source": [
    "### g.\tfrozenset\n",
    "Tiene como representación a un conjunto inmutable, es un conjunto que no puede ser modificado después de haberlo creado.\n"
   ]
  },
  {
   "cell_type": "code",
   "execution_count": null,
   "id": "d2c025f8",
   "metadata": {},
   "outputs": [],
   "source": []
  }
 ],
 "metadata": {
  "kernelspec": {
   "display_name": "Python 3",
   "language": "python",
   "name": "python3"
  },
  "language_info": {
   "codemirror_mode": {
    "name": "ipython",
    "version": 3
   },
   "file_extension": ".py",
   "mimetype": "text/x-python",
   "name": "python",
   "nbconvert_exporter": "python",
   "pygments_lexer": "ipython3",
   "version": "3.11.2"
  },
  "vscode": {
   "interpreter": {
    "hash": "c261aea317cc0286b3b3261fbba9abdec21eaa57589985bb7a274bf54d6cc0a7"
   }
  }
 },
 "nbformat": 4,
 "nbformat_minor": 5
}
