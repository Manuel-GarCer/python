{
 "cells": [
  {
   "attachments": {},
   "cell_type": "markdown",
   "metadata": {},
   "source": [
    "# CONDICIONES"
   ]
  },
  {
   "attachments": {},
   "cell_type": "markdown",
   "metadata": {},
   "source": [
    "## Sentencias IF, ELIF, ELSE"
   ]
  },
  {
   "cell_type": "code",
   "execution_count": null,
   "metadata": {},
   "outputs": [],
   "source": [
    "# Ejecutando la sentencia IF\n",
    "if True:\n",
    "    #contenido de la sentencia if\n",
    "    print(\"Hola 01\")\n",
    "\n",
    "if True:\n",
    "    #contenido de la sentencia if\n",
    "    print(\"Hola 02\")\n",
    "\n",
    "edadx = input(\"Ingrese su edad: \") # input = aporte o ingrese\n",
    "\n",
    "# Ejecutando la sentencia ELIF\n",
    "if edadx.isnumeric():  ### OJO NO OLVIDAR DOS PUNTOS :\n",
    "    edad = int(edadx)\n",
    "    if edad <= 12:    # int = entero\n",
    "        #contenido de la sentencia if\n",
    "        print(\"La edad ingresada pertenece a un niño\")\n",
    "    elif edad > 12 and edad < 18:\n",
    "        print(\"La edad ingresada pertenece a un adolescente\")\n",
    "    elif edad >= 18 and edad <= 40:\n",
    "        print(\"La edad ingresada pertenece a un adulto\")\n",
    "    else:\n",
    "        print(\"La edad ingresada pertenece a un adulto mayor\")\n",
    "#contenido de la sentencia ELSE\n",
    "else:\n",
    "    nombre = input(\"Ingrese su nombre: \")\n",
    "    print(\"hola\", nombre, \", como estas...\")\n",
    "\n",
    "\n"
   ]
  },
  {
   "cell_type": "code",
   "execution_count": 2,
   "metadata": {},
   "outputs": [
    {
     "name": "stdout",
     "output_type": "stream",
     "text": [
      "El formato ingreado no corresponde a un número de DNI\n"
     ]
    }
   ],
   "source": [
    "# Ejemplo 02: Validar un número de DNI\n",
    "num_dni = input(\"Ingrese número de dni: \") #   para que salga ese mensaje es input\n",
    "if num_dni.isnumeric():\n",
    "    #print(len(num_dni))\n",
    "    #len: funcion que devulve la cantidad de caracteres\n",
    "    if len(num_dni) == 8:\n",
    "        print(\"El formato del número si corresponde a un DNI\")\n",
    "    else:\n",
    "        print(\"La cantidad de cararcteres no coresponde a un DNI\")\n",
    "else:\n",
    "    print(\"El formato ingreado no corresponde a un número de DNI\")"
   ]
  },
  {
   "cell_type": "code",
   "execution_count": null,
   "metadata": {},
   "outputs": [],
   "source": [
    "# Ejemplo 3: Validar un correo electronico\n",
    "email = input(\"Ingrese un correo electrónico válido: \")\n",
    "if '@' in email and '.com' in email:\n",
    "    print(\"El correo ingresado es correcto\")\n",
    "else:\n",
    "    print(\"El correo electrónico ingresado es incorrecto.\")\n"
   ]
  },
  {
   "attachments": {},
   "cell_type": "markdown",
   "metadata": {},
   "source": [
    "# BUCLES"
   ]
  },
  {
   "attachments": {},
   "cell_type": "markdown",
   "metadata": {},
   "source": [
    "## BUCLE WHILE\n",
    "- Siempre se va a ejecutar hasta que una condición sea verdadera:"
   ]
  },
  {
   "cell_type": "code",
   "execution_count": 3,
   "metadata": {},
   "outputs": [
    {
     "name": "stdout",
     "output_type": "stream",
     "text": [
      "manzana 0\n",
      "platano 1\n",
      "fresa 2\n",
      "pera 3\n",
      "piña 4\n"
     ]
    }
   ],
   "source": [
    "# WHILE = MIENTRAS\n",
    "\n",
    "list_frutas = ['manzana', 'platano', 'fresa', 'pera', 'piña']\n",
    "contador = 0\n",
    "while contador < len(list_frutas):\n",
    "    print(list_frutas[contador], contador) # ponemos , contador para saber la posición\n",
    "    contador = contador + 1"
   ]
  },
  {
   "attachments": {},
   "cell_type": "markdown",
   "metadata": {},
   "source": [
    "### Declaraciones"
   ]
  },
  {
   "attachments": {},
   "cell_type": "markdown",
   "metadata": {},
   "source": [
    "- *break*: Instrucción que detiene el ciclo while"
   ]
  },
  {
   "cell_type": "code",
   "execution_count": 5,
   "metadata": {},
   "outputs": [
    {
     "name": "stdout",
     "output_type": "stream",
     "text": [
      "manzana\n",
      "platano\n",
      "fresa\n"
     ]
    }
   ],
   "source": [
    "# Ejemplo: Deteniendo el ciclo buscando una posición\n",
    "\n",
    "list_frutas02 = ['manzana', 'platano', 'fresa', 'pera', 'piña']\n",
    "i = 0\n",
    "while i < len(list_frutas02):\n",
    "    print(list_frutas02[i])\n",
    "    if i == 2:\n",
    "        break\n",
    "    i += 1\n",
    "\n",
    "\n"
   ]
  },
  {
   "attachments": {},
   "cell_type": "markdown",
   "metadata": {},
   "source": [
    "- *continue*: Instrucción que permite continuar con la siguiente iteración"
   ]
  },
  {
   "cell_type": "code",
   "execution_count": 9,
   "metadata": {},
   "outputs": [
    {
     "name": "stdout",
     "output_type": "stream",
     "text": [
      "manzana\n",
      "fresa\n",
      "pera\n",
      "piña\n"
     ]
    }
   ],
   "source": [
    "list_frutas03 = ['manzana', 'platano', 'fresa', 'pera', 'piña']\n",
    "j = 0\n",
    "while j < len(list_frutas03): \n",
    "    j += 1\n",
    "    if j == 2:\n",
    "        continue\n",
    "    print(list_frutas03[j - 1]) # le quitamos 1 y entre [] para que nos muetre el objeto"
   ]
  },
  {
   "cell_type": "code",
   "execution_count": 6,
   "metadata": {},
   "outputs": [
    {
     "name": "stdout",
     "output_type": "stream",
     "text": [
      "Dato ingresados correctamente\n",
      "Aplicación finalizada...\n",
      "[{'nombre': 'Hector', 'apellido': 'Lavoe'}]\n"
     ]
    }
   ],
   "source": [
    "# Ejemplo de opciones\n",
    "\n",
    "salir = \"Salir\"\n",
    "#texto = str()\n",
    "list_persona = list()\n",
    "while True:\n",
    "    nombre = input(\"Ingrese el nombre: \")\n",
    "    apellido = input(\"Ingrese el apellido: \")\n",
    "    if (nombre.title() != salir) or (apellido.title() != salir):\n",
    "        dat_persona = {\n",
    "            'nombre': nombre.title(),\n",
    "            'apellido': apellido.title()\n",
    "        }\n",
    "        list_persona.append(dat_persona)  # append = adjuntar\n",
    "        print(\"Dato ingresados correctamente\")\n",
    "    else: \n",
    "        print(\"Aplicación finalizada...\")\n",
    "        break\n",
    "\n",
    "print(list_persona)"
   ]
  },
  {
   "attachments": {},
   "cell_type": "markdown",
   "metadata": {},
   "source": [
    "## BUCLE FOR\n",
    "- Es utilizado para recorrer una secuencia de lista, tupla, diccionarios"
   ]
  },
  {
   "cell_type": "code",
   "execution_count": 13,
   "metadata": {},
   "outputs": [
    {
     "name": "stdout",
     "output_type": "stream",
     "text": [
      "================= LISTA ================\n",
      "manzana\n",
      "platano\n",
      "fresa\n",
      "pera\n",
      "piña\n",
      "================= TUPLA ================\n",
      "Enero\n",
      "Febreo\n",
      "Marzo\n",
      "Abril\n",
      "Mayo\n",
      "================= DICCIONARIO ================\n",
      "nombre: Manuel, apellido: García\n",
      "nombre: Celia, apellido: Cruz\n",
      "nombre: Hector, apellido: Peréz\n"
     ]
    }
   ],
   "source": [
    "list_frutas = ['manzana', 'platano', 'fresa', 'pera', 'piña']\n",
    "list_meses = ('Enero', 'Febreo', 'Marzo', 'Abril', 'Mayo')\n",
    "list_contacto = [\n",
    "    {'nombre': 'Manuel', 'apellido': 'García'},\n",
    "    {'nombre': 'Celia', 'apellido': 'Cruz'},\n",
    "    {'nombre': 'Hector', 'apellido': 'Peréz'}\n",
    "]\n",
    "\n",
    "print (\"================= LISTA ================\")\n",
    "for item in list_frutas:\n",
    "    print(item)\n",
    "\n",
    "print (\"================= TUPLA ================\")\n",
    "for value in list_meses:\n",
    "    print(value)\n",
    "\n",
    "print (\"================= DICCIONARIO ================\")\n",
    "for valores in list_contacto:\n",
    "    print(f\"nombre: {valores['nombre']}, apellido: {valores['apellido']}\")"
   ]
  },
  {
   "attachments": {},
   "cell_type": "markdown",
   "metadata": {},
   "source": [
    "### Declaraciones"
   ]
  },
  {
   "attachments": {},
   "cell_type": "markdown",
   "metadata": {},
   "source": [
    "- *break*: Instrucción que detiene el ciclo for"
   ]
  },
  {
   "cell_type": "code",
   "execution_count": 3,
   "metadata": {},
   "outputs": [
    {
     "name": "stdout",
     "output_type": "stream",
     "text": [
      "Enero\n",
      "Febrero\n",
      "Marzo\n"
     ]
    }
   ],
   "source": [
    "list_meses02 = ('Enero', 'Febrero', 'Marzo', 'Abril', 'Mayo')\n",
    "\n",
    "for item in list_meses02:\n",
    "    print(item)\n",
    "    if item == 'Marzo':\n",
    "        break"
   ]
  },
  {
   "attachments": {},
   "cell_type": "markdown",
   "metadata": {},
   "source": [
    "- *continue*: Instrucción que permite continuar con la siguiente iteración"
   ]
  },
  {
   "cell_type": "code",
   "execution_count": 15,
   "metadata": {},
   "outputs": [
    {
     "name": "stdout",
     "output_type": "stream",
     "text": [
      "Enero\n",
      "Febrero\n",
      "Abril\n",
      "Mayo\n"
     ]
    }
   ],
   "source": [
    "list_meses03 = ('Enero', 'Febrero', 'Marzo', 'Abril', 'Mayo')\n",
    "\n",
    "for item03 in list_meses03:\n",
    "    if item03 == 'Marzo':\n",
    "        continue\n",
    "    print(item03)\n",
    "    "
   ]
  },
  {
   "attachments": {},
   "cell_type": "markdown",
   "metadata": {},
   "source": [
    "- *range(inicio)*: Instrucción que devuelve una secuencia de números, comenzando desde 0 de forma predeterminada, se incrementa en 1 (de forma predeterminada) y se detiene antes de un número específico."
   ]
  },
  {
   "cell_type": "code",
   "execution_count": 2,
   "metadata": {},
   "outputs": [
    {
     "name": "stdout",
     "output_type": "stream",
     "text": [
      "0\n",
      "1\n",
      "2\n",
      "==================================\n",
      "{'nombre': 'Manuel', 'apellido': 'García'}\n",
      "{'nombre': 'Celia', 'apellido': 'Cruz'}\n",
      "{'nombre': 'Hector', 'apellido': 'Peréz'}\n",
      "==================================\n",
      "nombre: Manuel, apellido: García\n",
      "nombre: Celia, apellido: Cruz\n",
      "nombre: Hector, apellido: Peréz\n"
     ]
    }
   ],
   "source": [
    "list_contacto02 = [\n",
    "    {'nombre': 'Manuel', 'apellido': 'García'},\n",
    "    {'nombre': 'Celia', 'apellido': 'Cruz'},\n",
    "    {'nombre': 'Hector', 'apellido': 'Peréz'}\n",
    "]\n",
    "\n",
    "#Devolviendo la cantidad de items q existe en la lista\n",
    "for item04 in range(len(list_contacto02)):\n",
    "    print(item04)\n",
    "\n",
    "print(\"==================================\")\n",
    "\n",
    "#Devolviendo los item que se encuentran en la lista\n",
    "for item04 in range(len(list_contacto02)):\n",
    "    print(list_contacto02[item04])\n",
    "\n",
    "print(\"==================================\")\n",
    "\n",
    "# concatenando\n",
    "for item04 in range(len(list_contacto02)):\n",
    "    print(f\"nombre: {list_contacto02[item04]['nombre']}, apellido: {list_contacto02[item04]['apellido']}\")"
   ]
  },
  {
   "attachments": {},
   "cell_type": "markdown",
   "metadata": {},
   "source": [
    "# FUNCIONES\n",
    "- Una función es un bloque de código que solo se ejecuta cuando se le llama."
   ]
  },
  {
   "cell_type": "code",
   "execution_count": null,
   "metadata": {},
   "outputs": [
    {
     "name": "stdout",
     "output_type": "stream",
     "text": [
      "Hola, este es un saludo\n"
     ]
    }
   ],
   "source": [
    "def saludar():\n",
    "    print(\"Hola, este es un saludo\")\n",
    "\n",
    "saludar()"
   ]
  },
  {
   "attachments": {},
   "cell_type": "markdown",
   "metadata": {},
   "source": [
    "### Funciones con argumentos"
   ]
  },
  {
   "attachments": {},
   "cell_type": "markdown",
   "metadata": {},
   "source": [
    "- *Argumentos especificos*: Si declaras una funcion con x argumentos, al momento de llamarlo debe de contener x argumentos."
   ]
  },
  {
   "cell_type": "code",
   "execution_count": 14,
   "metadata": {},
   "outputs": [
    {
     "name": "stdout",
     "output_type": "stream",
     "text": [
      "El resultado de la suma es: 19\n",
      "===================================\n",
      "50\n"
     ]
    }
   ],
   "source": [
    "# funcion q te permita hacer suma\n",
    "\n",
    "def sumar(num01, num02):\n",
    "    total = num01 + num02\n",
    "    print(f\"El resultado de la suma es: {total}\")\n",
    "\n",
    "sumar(5, 14)\n",
    "\n",
    "print(\"===================================\")\n",
    "\n",
    "def multiplicar(num01, num02):\n",
    "    total = num01 * num02\n",
    "    return total\n",
    "\n",
    "print(multiplicar(5,10))"
   ]
  },
  {
   "attachments": {},
   "cell_type": "markdown",
   "metadata": {},
   "source": [
    "- Argumentos declarados: En caso de declarar una función con argumentos declarados, no es necesario llamarlo con el argumento declarado."
   ]
  },
  {
   "cell_type": "code",
   "execution_count": 9,
   "metadata": {},
   "outputs": [
    {
     "name": "stdout",
     "output_type": "stream",
     "text": [
      "El resultado de la resta es: -10\n"
     ]
    }
   ],
   "source": [
    "# funcion q te permita hacer resta\n",
    "\n",
    "def restar(num01 = 0, num02 = 0):\n",
    "    total = num01 - num02\n",
    "    print(f\"El resultado de la resta es: {total}\")\n",
    "\n",
    "restar(num02 = 10)"
   ]
  }
 ],
 "metadata": {
  "kernelspec": {
   "display_name": "Python 3",
   "language": "python",
   "name": "python3"
  },
  "language_info": {
   "codemirror_mode": {
    "name": "ipython",
    "version": 3
   },
   "file_extension": ".py",
   "mimetype": "text/x-python",
   "name": "python",
   "nbconvert_exporter": "python",
   "pygments_lexer": "ipython3",
   "version": "3.11.2"
  },
  "orig_nbformat": 4,
  "vscode": {
   "interpreter": {
    "hash": "c261aea317cc0286b3b3261fbba9abdec21eaa57589985bb7a274bf54d6cc0a7"
   }
  }
 },
 "nbformat": 4,
 "nbformat_minor": 2
}
