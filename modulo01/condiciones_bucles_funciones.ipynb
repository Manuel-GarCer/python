{
 "cells": [
  {
   "attachments": {},
   "cell_type": "markdown",
   "metadata": {},
   "source": [
    "# CONDICIONES"
   ]
  },
  {
   "attachments": {},
   "cell_type": "markdown",
   "metadata": {},
   "source": [
    "## Sentencias IF, ELIF, ELSE"
   ]
  },
  {
   "cell_type": "code",
   "execution_count": 4,
   "metadata": {},
   "outputs": [
    {
     "name": "stdout",
     "output_type": "stream",
     "text": [
      "Hola 01\n",
      "Hola 02\n",
      "hola Manolo , como estas...\n"
     ]
    }
   ],
   "source": [
    "# Ejecutando la sentencia IF\n",
    "if True:\n",
    "    #contenido de la sentencia if\n",
    "    print(\"Hola 01\")\n",
    "\n",
    "if True:\n",
    "    #contenido de la sentencia if\n",
    "    print(\"Hola 02\")\n",
    "\n",
    "edadx = input(\"Ingrese su edad: \") # input = aporte o ingrese\n",
    "\n",
    "# Ejecutando la sentencia ELIF\n",
    "if edadx.isnumeric():  ### OJO NO OLVIDAR DOS PUNTOS :\n",
    "    edad = int(edadx)\n",
    "    if edad <= 12:    # int = entero\n",
    "        #contenido de la sentencia if\n",
    "        print(\"La edad ingresada pertenece a un niño\")\n",
    "    elif edad > 12 and edad < 18:\n",
    "        print(\"La edad ingresada pertenece a un adolescente\")\n",
    "    elif edad >= 18 and edad <= 40:\n",
    "        print(\"La edad ingresada pertenece a un adulto\")\n",
    "    else:\n",
    "        print(\"La edad ingresada pertenece a un adulto mayor\")\n",
    "#contenido de la sentencia ELSE\n",
    "else:\n",
    "    nombre = input(\"Ingrese su nombre: \")\n",
    "    print(\"hola\", nombre, \", como estas...\")\n"
   ]
  },
  {
   "attachments": {},
   "cell_type": "markdown",
   "metadata": {},
   "source": [
    "# BUCLES"
   ]
  },
  {
   "attachments": {},
   "cell_type": "markdown",
   "metadata": {},
   "source": [
    "## BUCLE WHILE\n",
    "- Siempre se va a ejecutar hasta que una condición sea verdadera:"
   ]
  },
  {
   "cell_type": "code",
   "execution_count": null,
   "metadata": {},
   "outputs": [],
   "source": []
  },
  {
   "attachments": {},
   "cell_type": "markdown",
   "metadata": {},
   "source": [
    "### Declaraciones"
   ]
  },
  {
   "attachments": {},
   "cell_type": "markdown",
   "metadata": {},
   "source": [
    "- *break*: Instrucción que detiene el ciclo while"
   ]
  },
  {
   "cell_type": "code",
   "execution_count": null,
   "metadata": {},
   "outputs": [],
   "source": []
  },
  {
   "attachments": {},
   "cell_type": "markdown",
   "metadata": {},
   "source": [
    "- *continue*: Instrucción que permite continuar con la siguiente iteración"
   ]
  },
  {
   "cell_type": "code",
   "execution_count": null,
   "metadata": {},
   "outputs": [],
   "source": []
  },
  {
   "attachments": {},
   "cell_type": "markdown",
   "metadata": {},
   "source": [
    "## BUCLE FOR\n",
    "- Es utilizado para recorrer una secuencia de lista, tupla, diccionarios"
   ]
  },
  {
   "cell_type": "code",
   "execution_count": null,
   "metadata": {},
   "outputs": [],
   "source": []
  },
  {
   "attachments": {},
   "cell_type": "markdown",
   "metadata": {},
   "source": [
    "### Declaraciones"
   ]
  },
  {
   "attachments": {},
   "cell_type": "markdown",
   "metadata": {},
   "source": [
    "- *break*: Instrucción que detiene el ciclo for"
   ]
  },
  {
   "cell_type": "code",
   "execution_count": null,
   "metadata": {},
   "outputs": [],
   "source": []
  },
  {
   "attachments": {},
   "cell_type": "markdown",
   "metadata": {},
   "source": [
    "- *continue*: Instrucción que permite continuar con la siguiente iteración"
   ]
  },
  {
   "cell_type": "code",
   "execution_count": null,
   "metadata": {},
   "outputs": [],
   "source": []
  },
  {
   "attachments": {},
   "cell_type": "markdown",
   "metadata": {},
   "source": [
    "- *range(inicio)*: Instrucción que devuelve una secuencia de números, comenzando desde 0 de forma predeterminada, se incrementa en 1 (de forma predeterminada) y se detiene antes de un número específico."
   ]
  },
  {
   "cell_type": "code",
   "execution_count": null,
   "metadata": {},
   "outputs": [],
   "source": []
  },
  {
   "attachments": {},
   "cell_type": "markdown",
   "metadata": {},
   "source": [
    "# FUNCIONES\n",
    "- Una función es un bloque de código que solo se ejecuta cuando se le llama."
   ]
  },
  {
   "cell_type": "code",
   "execution_count": null,
   "metadata": {},
   "outputs": [],
   "source": []
  },
  {
   "attachments": {},
   "cell_type": "markdown",
   "metadata": {},
   "source": [
    "### Funciones con argumentos"
   ]
  },
  {
   "attachments": {},
   "cell_type": "markdown",
   "metadata": {},
   "source": [
    "- *Argumentos especificos*: Si declaras una funcion con x argumentos, al momento de llamarlo debe de contener x argumentos."
   ]
  },
  {
   "cell_type": "code",
   "execution_count": null,
   "metadata": {},
   "outputs": [],
   "source": []
  },
  {
   "attachments": {},
   "cell_type": "markdown",
   "metadata": {},
   "source": [
    "- Argumentos declarados: En caso de declarar una función con argumentos declarados, no es necesario llamarlo con el argumento declarado."
   ]
  },
  {
   "cell_type": "code",
   "execution_count": null,
   "metadata": {},
   "outputs": [],
   "source": []
  }
 ],
 "metadata": {
  "kernelspec": {
   "display_name": "Python 3",
   "language": "python",
   "name": "python3"
  },
  "language_info": {
   "codemirror_mode": {
    "name": "ipython",
    "version": 3
   },
   "file_extension": ".py",
   "mimetype": "text/x-python",
   "name": "python",
   "nbconvert_exporter": "python",
   "pygments_lexer": "ipython3",
   "version": "3.11.2"
  },
  "orig_nbformat": 4,
  "vscode": {
   "interpreter": {
    "hash": "c261aea317cc0286b3b3261fbba9abdec21eaa57589985bb7a274bf54d6cc0a7"
   }
  }
 },
 "nbformat": 4,
 "nbformat_minor": 2
}
