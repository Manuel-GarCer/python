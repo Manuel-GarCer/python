{
 "cells": [
  {
   "attachments": {},
   "cell_type": "markdown",
   "metadata": {},
   "source": [
    "# Excepciones en Python\n",
    "- Es una forma de controlar el comportamiento de un programa cuando se produce un error."
   ]
  },
  {
   "cell_type": "code",
   "execution_count": null,
   "metadata": {},
   "outputs": [],
   "source": [
    "num01 = 10\n",
    "num02 = \"5\"\n",
    "\n",
    "print(num01 + num02)\n",
    "print(\"Hola, esto se ejecuta despues del codigo que se encuentra lineas arriba !!!\")"
   ]
  },
  {
   "cell_type": "code",
   "execution_count": 10,
   "metadata": {},
   "outputs": [
    {
     "name": "stdout",
     "output_type": "stream",
     "text": [
      "La Operación no se puede ejecutar\n",
      "Se ejecuto toda la excepciones. Revisión finalizada\n",
      "Hola, esto se ejecuta despues del codigo que se encuentra lineas arriba !!!\n"
     ]
    }
   ],
   "source": [
    "num01 = 10\n",
    "num02 = \"5\"\n",
    "try:\n",
    "    print(num01 + num02)\n",
    "except:\n",
    "    print(\"La Operación no se puede ejecutar\")\n",
    "else:\n",
    "    print(\"La Operación se ejecuta correctamente\")\n",
    "finally:   ### este se ejecuta si o si así haya o no error\n",
    "    print(\"Se ejecuto toda la excepciones. Revisión finalizada\")\n",
    "\n",
    "print(\"Hola, esto se ejecuta despues del codigo que se encuentra lineas arriba !!!\")"
   ]
  },
  {
   "attachments": {},
   "cell_type": "markdown",
   "metadata": {},
   "source": [
    "- *Bloque try*: Bloque que permite probar la busqueda de errores.\n",
    "- *Bloque except*: Bloque que permite manejar los errores.\n",
    "- *Bloque else*: Bloque que se ejecuta cuando no hay ningun error.\n",
    "- *Bloque finally*: Bloque que se ejecuta cuando finaliza la excepción."
   ]
  },
  {
   "cell_type": "code",
   "execution_count": 13,
   "metadata": {},
   "outputs": [
    {
     "name": "stdout",
     "output_type": "stream",
     "text": [
      "No se puede realizar una división cuando el denominador es cero\n"
     ]
    }
   ],
   "source": [
    "num01 = 10\n",
    "num02 = 0\n",
    "try:\n",
    "    print(num01/num02)\n",
    "except TypeError:\n",
    "    print(\"Este es un error por tipo de dato, ingrese un numero entero\")\n",
    "except ZeroDivisionError:\n",
    "    print(\"No se puede realizar una división cuando el denominador es cero\")\n",
    "\n",
    "# Por lo general se utiliza esta excepción !!!\n",
    "try: \n",
    "    #Codigo que queremos ejecutar\n",
    "    pass\n",
    "except:\n",
    "    # Respuesta ante un problema dentro de nuestro codigo\n",
    "    pass\n"
   ]
  }
 ],
 "metadata": {
  "kernelspec": {
   "display_name": "Python 3",
   "language": "python",
   "name": "python3"
  },
  "language_info": {
   "codemirror_mode": {
    "name": "ipython",
    "version": 3
   },
   "file_extension": ".py",
   "mimetype": "text/x-python",
   "name": "python",
   "nbconvert_exporter": "python",
   "pygments_lexer": "ipython3",
   "version": "3.11.2"
  },
  "orig_nbformat": 4
 },
 "nbformat": 4,
 "nbformat_minor": 2
}
