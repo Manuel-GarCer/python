{
 "cells": [
  {
   "attachments": {},
   "cell_type": "markdown",
   "metadata": {},
   "source": [
    "# Programación Orientada a Objetos\n",
    "- POO es un paradigma de la programación, osea es un modelo basico de diseño y desarrollo de programas (Interpretación y modelado de la realidad).\n",
    "## Programa en POO:\n",
    "- Objetos que colaboran entre si enviandose mensajes\n",
    "- Entonces en la POO todo es un objeto.\n",
    "### Objeto:\n",
    "- Es la representación de un ente del dominio del problema\n",
    "### Ente:\n",
    "- Es cualquier cosa que podamos observar, hablar sobre el, etc. \n",
    "- La esencia del ente es modelado por los mensajes que el objeto sabe responder.\n",
    "### Mensaje:\n",
    "- Es la especificación sobre que puede hacer un objeto\n",
    "- Representa un ente de la realidad dentro del dominio de la comunicación\n",
    "- Representa un objeto a partir de los mensajes que sabe responder\n",
    "### Colaboración:\n",
    "- Es el hecho por el cual dos objetos se comunican por medio de un mensaje\n",
    "- Dentro de colaboración existen:\n",
    ">- Un emisor de mensaje\n",
    ">- Un receptor del mensaje\n",
    ">- Un conjunto de objetos que forman parte del mensaje\n",
    ">- Una respuesta\n",
    ">- Caracteristicas:\n",
    ">>- Son dirigidas (No es un broadcast(Difución masiva))\n",
    ">>- Son sincrónicas (La emisión continua hasta que se obtiene una respuesta)\n",
    ">>- El receptor desconoce al emisor\n",
    ">>- Siempre hay una respuesta\n",
    "- \tEn POO vamos a extraer todas las cosas que nos rodean, las cuales se llevan al programa mediante clases y objetos.\n",
    "\n",
    "> Objeto:\n",
    ">> Ejem:\n",
    ">>>- Una persona\n",
    ">>>- Un auto\n",
    ">>>- Un lápiz\n",
    "\n",
    "- Cada uno de esos objetos tienen caracteristicas que los diferencian uno de los otros y cada uno tiene diferentes funciones.\n",
    "> Ejem:\n",
    ">> Una computadora:\n",
    ">>>- tamaño: 50 cm\n",
    ">>>- color: negro\n",
    "\n",
    ">> Un auto:\n",
    ">>>- tamaño: 1.50 cm\n",
    ">>>- color: azul\n",
    ">>>- marca: Toyota\n",
    "\n",
    ">> Un lápiz:\n",
    ">>>- tamaño: 25 cm\n",
    ">>>- color: negro\n",
    "\n",
    "## Clase:\n",
    "- Es una entidad que define una serie de elementos que determinan un estado (datos) y un comportamiento (operaciones sobre los datos que modifican su estado).\n",
    "\n",
    "> Ejem:\n",
    ">> Medios de transporte:\n",
    "\n",
    ">>> Auto:\n",
    ">>>>- marca: Toyota\n",
    ">>>>- modelo: 2020\n",
    ">>>>- color: Gris\n",
    "\n",
    ">>> Moto:\n",
    ">>>>- marca: Kawasaki\n",
    ">>>>- modelo: 2019\n",
    ">>>>- color: Verde\n",
    "\n",
    "- A partir de un modelo puedo crear más objetos con diferentes caracteristicas.\n",
    "\n",
    "## ¿Por qué usar POO?\n",
    "- Permite reutilizar código\n",
    "- Sistemas más complejos\n",
    "- Facilita el mantenimiento"
   ]
  },
  {
   "cell_type": "code",
   "execution_count": 2,
   "metadata": {},
   "outputs": [
    {
     "name": "stdout",
     "output_type": "stream",
     "text": [
      "Manuel\n",
      "García\n",
      "Carlos\n"
     ]
    }
   ],
   "source": [
    "# Ejemplo:\n",
    "\n",
    "#Representación de una clase vacia\n",
    "class Auto:\n",
    "    pass #Podemos utilizarlo dentro de if - bucles - clases - funciones\n",
    "    ## ojo \"pass\" es como un comentario, no hace nada, es decir no intervine en el codigo\n",
    "\n",
    "# =========================================\n",
    "\n",
    "#Representación de una clase con atributos (caracteristicas)\n",
    "\n",
    "#tblPersona - nombre de una tabla en una base de datos\n",
    "\n",
    "class Persona:  #la clase empieza con mayuscula (sintaxis) siempre\n",
    "    nombre = 'Manuel'\n",
    "    apellido = 'García'\n",
    "    est_civil = 'S'\n",
    "    f_nacimiento = '28/02/1984' #casi siempre se usa el datatime\n",
    "    genero = 'M'\n",
    "    estado = True\n",
    "    estatura = 1.70 \n",
    "\n",
    "usuario = Persona() ### objeto \"usuario\" almamcenado en clase Persona\n",
    "#Antes\n",
    "print(usuario.nombre) # accedemos al atributo del objeto con (.) punto \n",
    "print(usuario.apellido)\n",
    "\n",
    "#Despues\n",
    "usuario.nombre = 'Carlos' ## se le puede asignar a un  atributo otro valor\n",
    "print(usuario.nombre)\n",
    "\n",
    "### atributo son: nombre, apellido, est_civil, genero, estado, estatura, etc\n"
   ]
  },
  {
   "cell_type": "code",
   "execution_count": 3,
   "metadata": {},
   "outputs": [
    {
     "name": "stdout",
     "output_type": "stream",
     "text": [
      "Domestico\n",
      "Labrador\n",
      "10\n"
     ]
    }
   ],
   "source": [
    "#Ejemplo 02\n",
    "\n",
    "# aca los valores los dejamos primero vacio\n",
    "class Animal:\n",
    "    tipo = ''\n",
    "    raza = ''\n",
    "    anio_vida = ''\n",
    "\n",
    "perro = Animal()\n",
    "perro.tipo = 'Domestico'\n",
    "perro.raza = 'Labrador'\n",
    "perro.anio_vida = '10'\n",
    "\n",
    "print(perro.tipo)\n",
    "print(perro.raza)\n",
    "print(perro.anio_vida)\n",
    "\n"
   ]
  },
  {
   "attachments": {},
   "cell_type": "markdown",
   "metadata": {},
   "source": [
    "## Metodos:\n",
    "- Es una función que se origina dentro de una clase, pueden ser referenciadas por los objetos de dicha clase. Generalmente implican una acción o un comportamiento.\n",
    "\t\n",
    "> (self):\n",
    ">>- Palabra reservada que hace referencia a los objetos\n",
    ">>- También nos permite asignar un valor en específico\n",
    "\n",
    "> __init()__:\n",
    ">>- Es un metodo que cumple la función de constructor.\n",
    ">>- La tarea de los constructores es inicializar(asignar valores) a los atributos de la clase cuando se crea un objeto de la clase.\n"
   ]
  },
  {
   "cell_type": "code",
   "execution_count": 4,
   "metadata": {},
   "outputs": [
    {
     "name": "stdout",
     "output_type": "stream",
     "text": [
      "(MOSTRAR): Manzana (Chilena)\n",
      "(DEVOLVER): Manzana (Chilena)\n",
      "Manolo\n",
      "MANOLO\n"
     ]
    }
   ],
   "source": [
    "#Ejemplo\n",
    "\n",
    "# funcion dentro de una clase es un metodo\n",
    "class Fruta:\n",
    "    # atributo 01\n",
    "    # atributo 02\n",
    "    # atributo 03\n",
    "    def __init__(self):  ### esta es la sintaxis en general init constructor\n",
    "        self.nombre = 'Manzana'\n",
    "        self.marca = 'Chilena'\n",
    "    \n",
    "    def mostrar_fruta(self):\n",
    "        print(f\"(MOSTRAR): {self.nombre} ({self.marca})\")\n",
    "        \n",
    "    def devolver_fruta(self):\n",
    "        return f\"(DEVOLVER): {self.nombre} ({self.marca})\"\n",
    "\n",
    "\n",
    "obj = Fruta()\n",
    "obj.mostrar_fruta()\n",
    "\n",
    "mostrar = obj.devolver_fruta() # lo almaceno en variable\n",
    "print(mostrar)\n",
    "\n",
    "# CADENA DE TEXTO => title(), upper(). lower()\n",
    "\n",
    "cadena = 'Manolo'\n",
    "print(str(cadena).title())\n",
    "print(str(cadena).upper())\n",
    "\n"
   ]
  },
  {
   "cell_type": "code",
   "execution_count": 2,
   "metadata": {},
   "outputs": [
    {
     "name": "stdout",
     "output_type": "stream",
     "text": [
      "10\n"
     ]
    }
   ],
   "source": [
    "var_num01 = 10\n",
    "\n",
    "def mostrar_numero01():\n",
    "    print(var_num01)\n",
    "\n",
    "def mostrar_numero02(num01):\n",
    "    num01 = var_num01\n",
    "    print(num01)\n",
    "\n",
    "def mostrar_numero03():\n",
    "    num02 = num01\n",
    "    print(num02)\n",
    "\n",
    "#mostrar_numero01()\n",
    "mostrar_numero02(5)"
   ]
  },
  {
   "cell_type": "code",
   "execution_count": 2,
   "metadata": {},
   "outputs": [
    {
     "name": "stdout",
     "output_type": "stream",
     "text": [
      "Tipo: Domestico\n",
      "Nombre: Drako\n",
      "Edad: 3\n",
      "Color: Gris\n",
      "Raza: Siberiano\n"
     ]
    }
   ],
   "source": [
    "class Mascota:\n",
    "    def __init__(self):\n",
    "        self.tipo = 'Domestico'\n",
    "        self.nombre = 'Drako'\n",
    "        self.edad = 3\n",
    "        self.color = 'Gris'\n",
    "        self.raza = 'Siberiano'\n",
    "    def mostrar_mascota(self):\n",
    "        return f\"Tipo: {self.tipo}\\nNombre: {self.nombre}\\nEdad: {self.edad}\\nColor: {self.color}\\nRaza: {self.raza}\"\n",
    "    \n",
    "perro = Mascota()\n",
    "print(perro.mostrar_mascota())\n"
   ]
  },
  {
   "attachments": {},
   "cell_type": "markdown",
   "metadata": {},
   "source": [
    "### Tipos de constructores:"
   ]
  },
  {
   "attachments": {},
   "cell_type": "markdown",
   "metadata": {},
   "source": [
    "#### Constructor predeterminado:\n",
    "- Es un constructor simple que no acepta ningún argumento.\n",
    "- Su definición tiene solo un argumento que es una referencia a la instancia que se está construyendo."
   ]
  },
  {
   "cell_type": "code",
   "execution_count": 4,
   "metadata": {},
   "outputs": [
    {
     "name": "stdout",
     "output_type": "stream",
     "text": [
      "El resultado de la suma es: 35\n",
      "El resultado de la resta es: 5\n"
     ]
    }
   ],
   "source": [
    "#Ejemplo\n",
    "class Calculadora:\n",
    "    def __init__(self):\n",
    "        self.num1 = 20\n",
    "        self.num2 = 15\n",
    "    def sumar(self):\n",
    "        return f\"El resultado de la suma es: {self.num1 + self.num2}\"\n",
    "    def restar(self):\n",
    "        return f\"El resultado de la resta es: {self.num1 - self.num2}\"\n",
    "\n",
    "operacion = Calculadora()\n",
    "print(operacion.sumar())\n",
    "print(operacion.restar())"
   ]
  },
  {
   "attachments": {},
   "cell_type": "markdown",
   "metadata": {},
   "source": [
    "#### Constructor parametrizado:\n",
    "- Toma su primer argumento como una referencia a la instancia que se está construyendo conocida como self y el resto de los argumentos son proporcionado. por el programador."
   ]
  },
  {
   "cell_type": "code",
   "execution_count": 6,
   "metadata": {},
   "outputs": [
    {
     "name": "stdout",
     "output_type": "stream",
     "text": [
      "El resultado de la suma es: 15\n",
      "El resultado de la resta es: 5\n"
     ]
    }
   ],
   "source": [
    "#Ejemplo\n",
    "class Operación:\n",
    "    def __init__(self, num1, num2):\n",
    "        self.num1 = num1\n",
    "        self.num2 = num2\n",
    "    def sumar(self):\n",
    "        return f\"El resultado de la suma es: {self.num1 + self.num2}\"\n",
    "    def restar(self):\n",
    "        return f\"El resultado de la resta es: {self.num1 - self.num2}\"\n",
    "\n",
    "object = Operación(10, 5)\n",
    "print(object.sumar())\n",
    "print(object.restar())"
   ]
  },
  {
   "attachments": {},
   "cell_type": "markdown",
   "metadata": {},
   "source": [
    "## Herencia:\n",
    "- Es una de las caracteristicas más importantes de POO.\n",
    "- Permite crear una nueva clase a partir de una o más clases existentes.\n",
    "- Es la capacidad de reutilizar una clase extendiendo su funcionalidad. \n",
    "- Una clase que hereda de otra puede añadir nuevos atributos, ocultarlos, añadir nuevos métodos o redefinirlos.\n",
    "\n",
    "> Clase padre -> Superclase\n",
    ">>- Clase hijo01 -> Subclase\n",
    ">>- Clase hijo02 -> Subclase\n",
    ">>- Clase hijo03 -> Subclase"
   ]
  },
  {
   "cell_type": "code",
   "execution_count": 6,
   "metadata": {},
   "outputs": [
    {
     "name": "stdout",
     "output_type": "stream",
     "text": [
      "Nombre: Manolo\n",
      "Apellido: Garcia\n",
      "Telefono: 976901730\n",
      "Direccion: Emiliano Zapata 253\n",
      "Genero: M\n"
     ]
    }
   ],
   "source": [
    "#Ejemplo\n",
    "\n",
    "# Usuario: [alumnos, padres]\n",
    "\n",
    "\n",
    "class Usuario:\n",
    "    def __init__(self, nombre, apellido, telefono): #init constructor, nombre, apellido, telefono eso es argumentos\n",
    "        self.nombre = nombre\n",
    "        self.apellido = apellido\n",
    "        self.telefono = telefono\n",
    "        \n",
    "    def __str__(self): #str te devulve un string palabras reservadas\n",
    "        return f'Nombre: {self.nombre}\\nApellido: {self.apellido}\\nTelefono: {self.telefono}'\n",
    "    \n",
    "class Alumno(Usuario): #class Alumno hereda todos los argumentos de Usuario\n",
    "    def __init__(self, nombre, apellido, telefono, dni):\n",
    "        super().__init__(nombre, apellido, telefono) # super hace referencia a clase padre\n",
    "        self.dni = dni\n",
    "\n",
    "    def mostrar_datos(self):\n",
    "        return (f'Nombre: {self.nombre}\\nApellido: {self.apellido}\\nTelefono: {self.telefono}\\nDNI: {self.dni}')\n",
    "\n",
    "class Alumno2(Usuario):\n",
    "    def __init__(self, nombre, apellido, telefono, direccion, genero):\n",
    "        Usuario.__init__(self, nombre, apellido, telefono) \n",
    "        self._direccion = direccion\n",
    "        self.__genero = genero # dos guiones bajos para encapsulacion solo se puede usar ac{a}\n",
    "        # OJO: aca llamas directamente al Usuario (al padre) ya no se pone super pero si self\n",
    "\n",
    "    def mostrar_informacion(self):\n",
    "        return f\"\"\"Nombre: {self.nombre}\n",
    "Apellido: {self.apellido}\n",
    "Telefono: {self.telefono}\n",
    "Direccion: {self._direccion}\n",
    "Genero: {self.__genero}\"\"\" # otra forma de concatenar\n",
    "\n",
    "    \n",
    "\n",
    "  \n",
    "\n",
    "\n",
    "# user = Usuario('Manolo', 'Garcia', '976901730')\n",
    "# print(user)\n",
    "\n",
    "# alumno = Alumno('Manolo', 'Garcia', '976901730', '42303159')\n",
    "# print(alumno.mostrar_datos())\n",
    "\n",
    "alumno2 = Alumno2('Manolo', 'Garcia', '976901730', 'Emiliano Zapata 253', 'M')\n",
    "# print(padre.nombre)\n",
    "# print(padre.apellidos)\n",
    "\n",
    "print(alumno2.mostrar_informacion())\n",
    "\n",
    "### Encapsulacion o atributos privados: solo el argumento es usado dentro del metodo si es afuera salé invalido en los dos guiones bajos\n",
    "\n",
    "  "
   ]
  },
  {
   "cell_type": "code",
   "execution_count": 5,
   "metadata": {},
   "outputs": [
    {
     "name": "stdout",
     "output_type": "stream",
     "text": [
      "Nombre: Zonia\n",
      "Apellido: Cerna\n",
      "===========================================\n",
      "Cod. Estudiante: E0001\n",
      "Nombre: Manolo\n",
      "Apellido: Garcia\n",
      "Genero: []\n"
     ]
    }
   ],
   "source": [
    "# Ejemplo Polimorfismo: HACE TAREAS direntes un mismo metodo en el padre e hijo aca es \"mostrar_data\"\n",
    "\n",
    "class Persona:\n",
    "    def __init__(self, nombre, apellido):\n",
    "        self.nombre = nombre\n",
    "        self.apellido = apellido\n",
    "\n",
    "    def mostrar_data(self):\n",
    "        return f'Nombre: {self.nombre}\\nApellido: {self.apellido}'\n",
    "\n",
    "\n",
    "class Estudiante(Persona):\n",
    "    genero = []\n",
    "    def __init__(self, nombre, apellido, cod_estudiante):\n",
    "        super().__init__(nombre, apellido)\n",
    "        self.cod_estudiante = cod_estudiante\n",
    "\n",
    "    def mostrar_data(self):\n",
    "        return f'Cod. Estudiante: {self.cod_estudiante}\\nNombre: {self.nombre}\\nApellido: {self.apellido}\\nGenero: {self.genero}'\n",
    "\n",
    "\n",
    "\n",
    "\n",
    "\n",
    "persona = Persona('Zonia', 'Cerna')\n",
    "print(persona.mostrar_data())\n",
    "print(\"===========================================\")\n",
    "estudiante = Estudiante('Manolo', 'Garcia', 'E0001')\n",
    "#estudiante.genero =\"M\"\n",
    "print(estudiante.mostrar_data())\n"
   ]
  },
  {
   "cell_type": "code",
   "execution_count": 10,
   "metadata": {},
   "outputs": [
    {
     "name": "stdout",
     "output_type": "stream",
     "text": [
      "El tipo ingresado es: <class 'str'>\n"
     ]
    }
   ],
   "source": [
    "# Ejemplo \n",
    "\n",
    "class Animal:\n",
    "    tipo = str\n",
    "    def __init__(self):\n",
    "        pass\n",
    "\n",
    "    def __str__(self):\n",
    "        return f\"El tipo ingresado es: {self.tipo}\"\n",
    "    \n",
    "    def mostrar_tipo(self):\n",
    "        return f\"El tipo ingresado es: {self.tipo}\"\n",
    "\n",
    "   \n",
    "\n",
    "animal = Animal()\n",
    "#animal.tipo = \"Perro\"\n",
    "print(animal)\n",
    "# print(animal.mostrar_tipo())\n"
   ]
  },
  {
   "cell_type": "code",
   "execution_count": 1,
   "metadata": {},
   "outputs": [],
   "source": [
    "class Persona:\n",
    "    \n",
    "    def __init__(self, nombre, edad):\n",
    "        self.__nombre = nombre # atributo privado\n",
    "        self.__edad = edad # atributo privado\n",
    "    \n",
    "    def get_nombre(self): # método público\n",
    "        return self.__nombre\n",
    "    \n",
    "    def set_nombre(self, nuevo_nombre): # método público\n",
    "        self.__nombre = nuevo_nombre\n",
    "    \n",
    "    def get_edad(self): # método público\n",
    "        return self.__edad\n",
    "    \n",
    "    def set_edad(self, nueva_edad): # método público\n",
    "        if nueva_edad >= 0:\n",
    "            self.__edad = nueva_edad\n",
    "    \n",
    "    def __metodo_privado(self): # método privado\n",
    "        print(\"Este es un método privado\")\n"
   ]
  },
  {
   "cell_type": "code",
   "execution_count": null,
   "metadata": {},
   "outputs": [],
   "source": [
    "class Persona:\n",
    "    def __init__(self, nombre, edad):\n",
    "        self.__nombre = nombre  # atributo privado\n",
    "        self.__edad = edad  # atributo privado\n",
    "\n",
    "    def get_nombre(self):\n",
    "        return self.__nombre\n",
    "\n",
    "    def set_nombre(self, nombre):\n",
    "        self.__nombre = nombre\n",
    "\n",
    "    def get_edad(self):\n",
    "        return self.__edad\n",
    "\n",
    "    def set_edad(self, edad):\n",
    "        self.__edad = edad\n"
   ]
  },
  {
   "cell_type": "code",
   "execution_count": 2,
   "metadata": {},
   "outputs": [
    {
     "name": "stdout",
     "output_type": "stream",
     "text": [
      "Woof!\n",
      "Meow!\n",
      "Moo!\n"
     ]
    }
   ],
   "source": [
    "class Animal:\n",
    "    def __init__(self, name):\n",
    "        self.name = name\n",
    "        \n",
    "    def speak(self):\n",
    "        pass\n",
    "\n",
    "class Dog(Animal):\n",
    "    def speak(self):\n",
    "        return \"Woof!\"\n",
    "\n",
    "class Cat(Animal):\n",
    "    def speak(self):\n",
    "        return \"Meow!\"\n",
    "\n",
    "class Cow(Animal):\n",
    "    def speak(self):\n",
    "        return \"Moo!\"\n",
    "\n",
    "def animal_speak(animal):\n",
    "    print(animal.speak())\n",
    "\n",
    "dog = Dog(\"Fido\")\n",
    "cat = Cat(\"Whiskers\")\n",
    "cow = Cow(\"Bessie\")\n",
    "\n",
    "animal_speak(dog)  # Output: \"Woof!\"\n",
    "animal_speak(cat)  # Output: \"Meow!\"\n",
    "animal_speak(cow)  # Output: \"Moo!\"\n"
   ]
  },
  {
   "cell_type": "code",
   "execution_count": 3,
   "metadata": {},
   "outputs": [
    {
     "name": "stdout",
     "output_type": "stream",
     "text": [
      "Rex: Woof!\n",
      "Luna: Meow!\n",
      "Betsy: Moo!\n"
     ]
    }
   ],
   "source": [
    "class Animal:\n",
    "    def __init__(self, name):\n",
    "        self.name = name\n",
    "        \n",
    "    def make_sound(self):\n",
    "        pass\n",
    "\n",
    "class Dog(Animal):\n",
    "    def make_sound(self):\n",
    "        return \"Woof!\"\n",
    "\n",
    "class Cat(Animal):\n",
    "    def make_sound(self):\n",
    "        return \"Meow!\"\n",
    "\n",
    "class Cow(Animal):\n",
    "    def make_sound(self):\n",
    "        return \"Moo!\"\n",
    "\n",
    "animals = [Dog(\"Rex\"), Cat(\"Luna\"), Cow(\"Betsy\")]\n",
    "\n",
    "for animal in animals:\n",
    "    print(animal.name + \": \" + animal.make_sound())\n"
   ]
  }
 ],
 "metadata": {
  "kernelspec": {
   "display_name": "Python 3",
   "language": "python",
   "name": "python3"
  },
  "language_info": {
   "codemirror_mode": {
    "name": "ipython",
    "version": 3
   },
   "file_extension": ".py",
   "mimetype": "text/x-python",
   "name": "python",
   "nbconvert_exporter": "python",
   "pygments_lexer": "ipython3",
   "version": "3.11.2"
  },
  "orig_nbformat": 4,
  "vscode": {
   "interpreter": {
    "hash": "7034d8e9d3e51e337b9970f69d07f05ee44561bb7f5747a6d48f14d31d3f7d1c"
   }
  }
 },
 "nbformat": 4,
 "nbformat_minor": 2
}
